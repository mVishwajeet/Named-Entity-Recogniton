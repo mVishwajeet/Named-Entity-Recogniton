{
  "cells": [
    {
      "cell_type": "code",
      "execution_count": null,
      "metadata": {
        "colab": {
          "base_uri": "https://localhost:8080/"
        },
        "id": "h79Xjc8yeC4f",
        "outputId": "fa72b23c-9c7f-4290-87cf-6769da536b19"
      },
      "outputs": [
        {
          "output_type": "stream",
          "name": "stdout",
          "text": [
            "Mounted at /content/gdrive/\n"
          ]
        }
      ],
      "source": [
        "#from google.colab import drive\n",
        "#drive.mount('/content/gdrive/', force_remount=True)\n"
      ]
    },
    {
      "cell_type": "code",
      "execution_count": null,
      "metadata": {
        "colab": {
          "base_uri": "https://localhost:8080/"
        },
        "id": "3-BWxBXTgYEe",
        "outputId": "dca7a65d-c6f9-4003-ca7a-3e0043fb5542"
      },
      "outputs": [
        {
          "output_type": "stream",
          "name": "stdout",
          "text": [
            "Archive:  /content/gdrive/MyDrive/Datasets/NER/ner_dataset.csv.zip\n",
            "  inflating: ner_dataset.csv         \n",
            "Archive:  /content/gdrive/MyDrive/Datasets/NER/ner_final.csv.zip\n",
            "  inflating: ner.csv                 \n"
          ]
        }
      ],
      "source": [
        "#!unzip /content/gdrive/MyDrive/Datasets/NER/ner_dataset.csv.zip\n",
        "#!unzip /content/gdrive/MyDrive/Datasets/NER/ner_final.csv.zip"
      ]
    },
    {
      "cell_type": "markdown",
      "source": [
        "###Upload the Dataset in google colab or local jupyter notebbok. Make sure to give the correct path, Upload the zip files"
      ],
      "metadata": {
        "id": "KoWUgnxpk8Yh"
      }
    },
    {
      "cell_type": "code",
      "source": [
        "!unzip ner_dataset.csv.zip\n",
        "!unzip ner_final.csv.zip"
      ],
      "metadata": {
        "id": "DKCN7EwXlRv_"
      },
      "execution_count": null,
      "outputs": []
    },
    {
      "cell_type": "code",
      "execution_count": null,
      "metadata": {
        "id": "bUpP7UQ7g959"
      },
      "outputs": [],
      "source": [
        "import pandas as pd\n",
        "import numpy as np\n",
        "import matplotlib.pyplot as plt\n"
      ]
    },
    {
      "cell_type": "code",
      "execution_count": null,
      "metadata": {
        "id": "is3o_Zskhb6s"
      },
      "outputs": [],
      "source": [
        "df_words = pd.read_csv(\"ner_dataset.csv\", encoding = \"ISO-8859-1\")\n",
        "df_sentences = pd.read_csv(\"ner.csv\", encoding='ISO-8859-1')\n"
      ]
    },
    {
      "cell_type": "code",
      "execution_count": null,
      "metadata": {
        "colab": {
          "base_uri": "https://localhost:8080/",
          "height": 206
        },
        "id": "i8Z5PvNoh0b4",
        "outputId": "568bf795-4d93-40a4-b57d-a828b229db47"
      },
      "outputs": [
        {
          "output_type": "execute_result",
          "data": {
            "text/plain": [
              "    Sentence #           Word  POS Tag\n",
              "0  Sentence: 1      Thousands  NNS   O\n",
              "1          NaN             of   IN   O\n",
              "2          NaN  demonstrators  NNS   O\n",
              "3          NaN           have  VBP   O\n",
              "4          NaN        marched  VBN   O"
            ],
            "text/html": [
              "\n",
              "  <div id=\"df-e19270b9-a6e6-4462-988d-799b3d52ea9e\">\n",
              "    <div class=\"colab-df-container\">\n",
              "      <div>\n",
              "<style scoped>\n",
              "    .dataframe tbody tr th:only-of-type {\n",
              "        vertical-align: middle;\n",
              "    }\n",
              "\n",
              "    .dataframe tbody tr th {\n",
              "        vertical-align: top;\n",
              "    }\n",
              "\n",
              "    .dataframe thead th {\n",
              "        text-align: right;\n",
              "    }\n",
              "</style>\n",
              "<table border=\"1\" class=\"dataframe\">\n",
              "  <thead>\n",
              "    <tr style=\"text-align: right;\">\n",
              "      <th></th>\n",
              "      <th>Sentence #</th>\n",
              "      <th>Word</th>\n",
              "      <th>POS</th>\n",
              "      <th>Tag</th>\n",
              "    </tr>\n",
              "  </thead>\n",
              "  <tbody>\n",
              "    <tr>\n",
              "      <th>0</th>\n",
              "      <td>Sentence: 1</td>\n",
              "      <td>Thousands</td>\n",
              "      <td>NNS</td>\n",
              "      <td>O</td>\n",
              "    </tr>\n",
              "    <tr>\n",
              "      <th>1</th>\n",
              "      <td>NaN</td>\n",
              "      <td>of</td>\n",
              "      <td>IN</td>\n",
              "      <td>O</td>\n",
              "    </tr>\n",
              "    <tr>\n",
              "      <th>2</th>\n",
              "      <td>NaN</td>\n",
              "      <td>demonstrators</td>\n",
              "      <td>NNS</td>\n",
              "      <td>O</td>\n",
              "    </tr>\n",
              "    <tr>\n",
              "      <th>3</th>\n",
              "      <td>NaN</td>\n",
              "      <td>have</td>\n",
              "      <td>VBP</td>\n",
              "      <td>O</td>\n",
              "    </tr>\n",
              "    <tr>\n",
              "      <th>4</th>\n",
              "      <td>NaN</td>\n",
              "      <td>marched</td>\n",
              "      <td>VBN</td>\n",
              "      <td>O</td>\n",
              "    </tr>\n",
              "  </tbody>\n",
              "</table>\n",
              "</div>\n",
              "      <button class=\"colab-df-convert\" onclick=\"convertToInteractive('df-e19270b9-a6e6-4462-988d-799b3d52ea9e')\"\n",
              "              title=\"Convert this dataframe to an interactive table.\"\n",
              "              style=\"display:none;\">\n",
              "        \n",
              "  <svg xmlns=\"http://www.w3.org/2000/svg\" height=\"24px\"viewBox=\"0 0 24 24\"\n",
              "       width=\"24px\">\n",
              "    <path d=\"M0 0h24v24H0V0z\" fill=\"none\"/>\n",
              "    <path d=\"M18.56 5.44l.94 2.06.94-2.06 2.06-.94-2.06-.94-.94-2.06-.94 2.06-2.06.94zm-11 1L8.5 8.5l.94-2.06 2.06-.94-2.06-.94L8.5 2.5l-.94 2.06-2.06.94zm10 10l.94 2.06.94-2.06 2.06-.94-2.06-.94-.94-2.06-.94 2.06-2.06.94z\"/><path d=\"M17.41 7.96l-1.37-1.37c-.4-.4-.92-.59-1.43-.59-.52 0-1.04.2-1.43.59L10.3 9.45l-7.72 7.72c-.78.78-.78 2.05 0 2.83L4 21.41c.39.39.9.59 1.41.59.51 0 1.02-.2 1.41-.59l7.78-7.78 2.81-2.81c.8-.78.8-2.07 0-2.86zM5.41 20L4 18.59l7.72-7.72 1.47 1.35L5.41 20z\"/>\n",
              "  </svg>\n",
              "      </button>\n",
              "      \n",
              "  <style>\n",
              "    .colab-df-container {\n",
              "      display:flex;\n",
              "      flex-wrap:wrap;\n",
              "      gap: 12px;\n",
              "    }\n",
              "\n",
              "    .colab-df-convert {\n",
              "      background-color: #E8F0FE;\n",
              "      border: none;\n",
              "      border-radius: 50%;\n",
              "      cursor: pointer;\n",
              "      display: none;\n",
              "      fill: #1967D2;\n",
              "      height: 32px;\n",
              "      padding: 0 0 0 0;\n",
              "      width: 32px;\n",
              "    }\n",
              "\n",
              "    .colab-df-convert:hover {\n",
              "      background-color: #E2EBFA;\n",
              "      box-shadow: 0px 1px 2px rgba(60, 64, 67, 0.3), 0px 1px 3px 1px rgba(60, 64, 67, 0.15);\n",
              "      fill: #174EA6;\n",
              "    }\n",
              "\n",
              "    [theme=dark] .colab-df-convert {\n",
              "      background-color: #3B4455;\n",
              "      fill: #D2E3FC;\n",
              "    }\n",
              "\n",
              "    [theme=dark] .colab-df-convert:hover {\n",
              "      background-color: #434B5C;\n",
              "      box-shadow: 0px 1px 3px 1px rgba(0, 0, 0, 0.15);\n",
              "      filter: drop-shadow(0px 1px 2px rgba(0, 0, 0, 0.3));\n",
              "      fill: #FFFFFF;\n",
              "    }\n",
              "  </style>\n",
              "\n",
              "      <script>\n",
              "        const buttonEl =\n",
              "          document.querySelector('#df-e19270b9-a6e6-4462-988d-799b3d52ea9e button.colab-df-convert');\n",
              "        buttonEl.style.display =\n",
              "          google.colab.kernel.accessAllowed ? 'block' : 'none';\n",
              "\n",
              "        async function convertToInteractive(key) {\n",
              "          const element = document.querySelector('#df-e19270b9-a6e6-4462-988d-799b3d52ea9e');\n",
              "          const dataTable =\n",
              "            await google.colab.kernel.invokeFunction('convertToInteractive',\n",
              "                                                     [key], {});\n",
              "          if (!dataTable) return;\n",
              "\n",
              "          const docLinkHtml = 'Like what you see? Visit the ' +\n",
              "            '<a target=\"_blank\" href=https://colab.research.google.com/notebooks/data_table.ipynb>data table notebook</a>'\n",
              "            + ' to learn more about interactive tables.';\n",
              "          element.innerHTML = '';\n",
              "          dataTable['output_type'] = 'display_data';\n",
              "          await google.colab.output.renderOutput(dataTable, element);\n",
              "          const docLink = document.createElement('div');\n",
              "          docLink.innerHTML = docLinkHtml;\n",
              "          element.appendChild(docLink);\n",
              "        }\n",
              "      </script>\n",
              "    </div>\n",
              "  </div>\n",
              "  "
            ]
          },
          "metadata": {},
          "execution_count": 5
        }
      ],
      "source": [
        "df_words.head(5)"
      ]
    },
    {
      "cell_type": "code",
      "source": [
        "df_words.shape"
      ],
      "metadata": {
        "colab": {
          "base_uri": "https://localhost:8080/"
        },
        "id": "BrBEGdOxiOl5",
        "outputId": "c94baaa7-9201-42a1-8c69-4ad9ab3cd3a9"
      },
      "execution_count": null,
      "outputs": [
        {
          "output_type": "execute_result",
          "data": {
            "text/plain": [
              "(1048575, 4)"
            ]
          },
          "metadata": {},
          "execution_count": 6
        }
      ]
    },
    {
      "cell_type": "code",
      "execution_count": null,
      "metadata": {
        "colab": {
          "base_uri": "https://localhost:8080/",
          "height": 206
        },
        "id": "vy6wnvsUslo7",
        "outputId": "2a81fea4-e3c1-4a85-e661-7ce0432b5bb8"
      },
      "outputs": [
        {
          "output_type": "execute_result",
          "data": {
            "text/plain": [
              "    Sentence #                                           Sentence  \\\n",
              "0  Sentence: 1  Thousands of demonstrators have marched throug...   \n",
              "1  Sentence: 2  Families of soldiers killed in the conflict jo...   \n",
              "2  Sentence: 3  They marched from the Houses of Parliament to ...   \n",
              "3  Sentence: 4  Police put the number of marchers at 10,000 wh...   \n",
              "4  Sentence: 5  The protest comes on the eve of the annual con...   \n",
              "\n",
              "                                                 POS  \\\n",
              "0  ['NNS', 'IN', 'NNS', 'VBP', 'VBN', 'IN', 'NNP'...   \n",
              "1  ['NNS', 'IN', 'NNS', 'VBN', 'IN', 'DT', 'NN', ...   \n",
              "2  ['PRP', 'VBD', 'IN', 'DT', 'NNS', 'IN', 'NN', ...   \n",
              "3  ['NNS', 'VBD', 'DT', 'NN', 'IN', 'NNS', 'IN', ...   \n",
              "4  ['DT', 'NN', 'VBZ', 'IN', 'DT', 'NN', 'IN', 'D...   \n",
              "\n",
              "                                                 Tag  \n",
              "0  ['O', 'O', 'O', 'O', 'O', 'O', 'B-geo', 'O', '...  \n",
              "1  ['O', 'O', 'O', 'O', 'O', 'O', 'O', 'O', 'O', ...  \n",
              "2  ['O', 'O', 'O', 'O', 'O', 'O', 'O', 'O', 'O', ...  \n",
              "3  ['O', 'O', 'O', 'O', 'O', 'O', 'O', 'O', 'O', ...  \n",
              "4  ['O', 'O', 'O', 'O', 'O', 'O', 'O', 'O', 'O', ...  "
            ],
            "text/html": [
              "\n",
              "  <div id=\"df-1242027b-77bf-49d5-b15f-deb8babec9b2\">\n",
              "    <div class=\"colab-df-container\">\n",
              "      <div>\n",
              "<style scoped>\n",
              "    .dataframe tbody tr th:only-of-type {\n",
              "        vertical-align: middle;\n",
              "    }\n",
              "\n",
              "    .dataframe tbody tr th {\n",
              "        vertical-align: top;\n",
              "    }\n",
              "\n",
              "    .dataframe thead th {\n",
              "        text-align: right;\n",
              "    }\n",
              "</style>\n",
              "<table border=\"1\" class=\"dataframe\">\n",
              "  <thead>\n",
              "    <tr style=\"text-align: right;\">\n",
              "      <th></th>\n",
              "      <th>Sentence #</th>\n",
              "      <th>Sentence</th>\n",
              "      <th>POS</th>\n",
              "      <th>Tag</th>\n",
              "    </tr>\n",
              "  </thead>\n",
              "  <tbody>\n",
              "    <tr>\n",
              "      <th>0</th>\n",
              "      <td>Sentence: 1</td>\n",
              "      <td>Thousands of demonstrators have marched throug...</td>\n",
              "      <td>['NNS', 'IN', 'NNS', 'VBP', 'VBN', 'IN', 'NNP'...</td>\n",
              "      <td>['O', 'O', 'O', 'O', 'O', 'O', 'B-geo', 'O', '...</td>\n",
              "    </tr>\n",
              "    <tr>\n",
              "      <th>1</th>\n",
              "      <td>Sentence: 2</td>\n",
              "      <td>Families of soldiers killed in the conflict jo...</td>\n",
              "      <td>['NNS', 'IN', 'NNS', 'VBN', 'IN', 'DT', 'NN', ...</td>\n",
              "      <td>['O', 'O', 'O', 'O', 'O', 'O', 'O', 'O', 'O', ...</td>\n",
              "    </tr>\n",
              "    <tr>\n",
              "      <th>2</th>\n",
              "      <td>Sentence: 3</td>\n",
              "      <td>They marched from the Houses of Parliament to ...</td>\n",
              "      <td>['PRP', 'VBD', 'IN', 'DT', 'NNS', 'IN', 'NN', ...</td>\n",
              "      <td>['O', 'O', 'O', 'O', 'O', 'O', 'O', 'O', 'O', ...</td>\n",
              "    </tr>\n",
              "    <tr>\n",
              "      <th>3</th>\n",
              "      <td>Sentence: 4</td>\n",
              "      <td>Police put the number of marchers at 10,000 wh...</td>\n",
              "      <td>['NNS', 'VBD', 'DT', 'NN', 'IN', 'NNS', 'IN', ...</td>\n",
              "      <td>['O', 'O', 'O', 'O', 'O', 'O', 'O', 'O', 'O', ...</td>\n",
              "    </tr>\n",
              "    <tr>\n",
              "      <th>4</th>\n",
              "      <td>Sentence: 5</td>\n",
              "      <td>The protest comes on the eve of the annual con...</td>\n",
              "      <td>['DT', 'NN', 'VBZ', 'IN', 'DT', 'NN', 'IN', 'D...</td>\n",
              "      <td>['O', 'O', 'O', 'O', 'O', 'O', 'O', 'O', 'O', ...</td>\n",
              "    </tr>\n",
              "  </tbody>\n",
              "</table>\n",
              "</div>\n",
              "      <button class=\"colab-df-convert\" onclick=\"convertToInteractive('df-1242027b-77bf-49d5-b15f-deb8babec9b2')\"\n",
              "              title=\"Convert this dataframe to an interactive table.\"\n",
              "              style=\"display:none;\">\n",
              "        \n",
              "  <svg xmlns=\"http://www.w3.org/2000/svg\" height=\"24px\"viewBox=\"0 0 24 24\"\n",
              "       width=\"24px\">\n",
              "    <path d=\"M0 0h24v24H0V0z\" fill=\"none\"/>\n",
              "    <path d=\"M18.56 5.44l.94 2.06.94-2.06 2.06-.94-2.06-.94-.94-2.06-.94 2.06-2.06.94zm-11 1L8.5 8.5l.94-2.06 2.06-.94-2.06-.94L8.5 2.5l-.94 2.06-2.06.94zm10 10l.94 2.06.94-2.06 2.06-.94-2.06-.94-.94-2.06-.94 2.06-2.06.94z\"/><path d=\"M17.41 7.96l-1.37-1.37c-.4-.4-.92-.59-1.43-.59-.52 0-1.04.2-1.43.59L10.3 9.45l-7.72 7.72c-.78.78-.78 2.05 0 2.83L4 21.41c.39.39.9.59 1.41.59.51 0 1.02-.2 1.41-.59l7.78-7.78 2.81-2.81c.8-.78.8-2.07 0-2.86zM5.41 20L4 18.59l7.72-7.72 1.47 1.35L5.41 20z\"/>\n",
              "  </svg>\n",
              "      </button>\n",
              "      \n",
              "  <style>\n",
              "    .colab-df-container {\n",
              "      display:flex;\n",
              "      flex-wrap:wrap;\n",
              "      gap: 12px;\n",
              "    }\n",
              "\n",
              "    .colab-df-convert {\n",
              "      background-color: #E8F0FE;\n",
              "      border: none;\n",
              "      border-radius: 50%;\n",
              "      cursor: pointer;\n",
              "      display: none;\n",
              "      fill: #1967D2;\n",
              "      height: 32px;\n",
              "      padding: 0 0 0 0;\n",
              "      width: 32px;\n",
              "    }\n",
              "\n",
              "    .colab-df-convert:hover {\n",
              "      background-color: #E2EBFA;\n",
              "      box-shadow: 0px 1px 2px rgba(60, 64, 67, 0.3), 0px 1px 3px 1px rgba(60, 64, 67, 0.15);\n",
              "      fill: #174EA6;\n",
              "    }\n",
              "\n",
              "    [theme=dark] .colab-df-convert {\n",
              "      background-color: #3B4455;\n",
              "      fill: #D2E3FC;\n",
              "    }\n",
              "\n",
              "    [theme=dark] .colab-df-convert:hover {\n",
              "      background-color: #434B5C;\n",
              "      box-shadow: 0px 1px 3px 1px rgba(0, 0, 0, 0.15);\n",
              "      filter: drop-shadow(0px 1px 2px rgba(0, 0, 0, 0.3));\n",
              "      fill: #FFFFFF;\n",
              "    }\n",
              "  </style>\n",
              "\n",
              "      <script>\n",
              "        const buttonEl =\n",
              "          document.querySelector('#df-1242027b-77bf-49d5-b15f-deb8babec9b2 button.colab-df-convert');\n",
              "        buttonEl.style.display =\n",
              "          google.colab.kernel.accessAllowed ? 'block' : 'none';\n",
              "\n",
              "        async function convertToInteractive(key) {\n",
              "          const element = document.querySelector('#df-1242027b-77bf-49d5-b15f-deb8babec9b2');\n",
              "          const dataTable =\n",
              "            await google.colab.kernel.invokeFunction('convertToInteractive',\n",
              "                                                     [key], {});\n",
              "          if (!dataTable) return;\n",
              "\n",
              "          const docLinkHtml = 'Like what you see? Visit the ' +\n",
              "            '<a target=\"_blank\" href=https://colab.research.google.com/notebooks/data_table.ipynb>data table notebook</a>'\n",
              "            + ' to learn more about interactive tables.';\n",
              "          element.innerHTML = '';\n",
              "          dataTable['output_type'] = 'display_data';\n",
              "          await google.colab.output.renderOutput(dataTable, element);\n",
              "          const docLink = document.createElement('div');\n",
              "          docLink.innerHTML = docLinkHtml;\n",
              "          element.appendChild(docLink);\n",
              "        }\n",
              "      </script>\n",
              "    </div>\n",
              "  </div>\n",
              "  "
            ]
          },
          "metadata": {},
          "execution_count": 7
        }
      ],
      "source": [
        "df_sentences.head()"
      ]
    },
    {
      "cell_type": "code",
      "execution_count": null,
      "metadata": {
        "id": "fRVROGCjt6n2"
      },
      "outputs": [],
      "source": [
        "n_rows =df_words.shape[0]\n",
        "columns = df_words.columns"
      ]
    },
    {
      "cell_type": "markdown",
      "metadata": {
        "id": "w_jhYj1AjRCr"
      },
      "source": [
        "## Data analysis"
      ]
    },
    {
      "cell_type": "code",
      "execution_count": null,
      "metadata": {
        "colab": {
          "base_uri": "https://localhost:8080/"
        },
        "id": "x8_7ZlV5i4Cu",
        "outputId": "4aff1213-3884-4d9b-a074-d86ab4b8387f"
      },
      "outputs": [
        {
          "output_type": "stream",
          "name": "stdout",
          "text": [
            "['O', 'B-geo', 'B-gpe', 'B-per', 'I-geo', 'B-org', 'I-org', 'B-tim', 'B-art', 'I-art', 'I-per', 'I-gpe', 'I-tim', 'B-nat', 'B-eve', 'I-eve', 'I-nat']\n"
          ]
        }
      ],
      "source": [
        "unique_tags = list(df_words.Tag.unique())\n",
        "print(unique_tags)"
      ]
    },
    {
      "cell_type": "code",
      "execution_count": null,
      "metadata": {
        "colab": {
          "base_uri": "https://localhost:8080/"
        },
        "id": "n6e-zydbzQmP",
        "outputId": "46753870-804e-484e-bca2-ee091c75b327"
      },
      "outputs": [
        {
          "output_type": "execute_result",
          "data": {
            "text/plain": [
              "{'O': 887908,\n",
              " 'B-geo': 37644,\n",
              " 'B-gpe': 15870,\n",
              " 'B-per': 16990,\n",
              " 'I-geo': 7414,\n",
              " 'B-org': 20143,\n",
              " 'I-org': 16784,\n",
              " 'B-tim': 20333,\n",
              " 'B-art': 402,\n",
              " 'I-art': 297,\n",
              " 'I-per': 17251,\n",
              " 'I-gpe': 198,\n",
              " 'I-tim': 6528,\n",
              " 'B-nat': 201,\n",
              " 'B-eve': 308,\n",
              " 'I-eve': 253,\n",
              " 'I-nat': 51}"
            ]
          },
          "metadata": {},
          "execution_count": 10
        }
      ],
      "source": [
        "tags_count = {}\n",
        "count = 0\n",
        "for tag in unique_tags:\n",
        "  for i in df_words.Tag:\n",
        "    if tag == i:\n",
        "      count = count+1\n",
        "      tags_count[tag] = count\n",
        "  count =0\n",
        "\n",
        "tags_count\n"
      ]
    },
    {
      "cell_type": "code",
      "execution_count": null,
      "metadata": {
        "colab": {
          "base_uri": "https://localhost:8080/",
          "height": 625
        },
        "id": "8j5isV2ZObtR",
        "outputId": "b28fdb5e-6e1e-4014-d53d-b5a75d785c2e"
      },
      "outputs": [
        {
          "output_type": "display_data",
          "data": {
            "text/plain": [
              "<Figure size 1000x600 with 1 Axes>"
            ],
            "image/png": "[encoded data removed]"
          },
          "metadata": {}
        }
      ],
      "source": [
        "plt.figure(figsize = (10, 6))\n",
        "plt.hist(df_words.Tag, log = True, label = 'Tags', color = 'darkblue', bins = 50)\n",
        "plt.xlabel('Tags', fontsize = 16)\n",
        "plt.ylabel('Count', fontsize = 16)\n",
        "plt.title(\"Tags Frequency\", fontsize = 20)\n",
        "plt.grid(alpha=0.3)\n",
        "plt.legend()\n",
        "plt.xticks(fontsize=15)\n",
        "plt.yticks(fontsize=15)\n",
        "plt.xticks(rotation=90)\n",
        "plt.show()\n"
      ]
    },
    {
      "cell_type": "markdown",
      "metadata": {
        "id": "MCvfdpgCPDRQ"
      },
      "source": [
        "## Pre-processing"
      ]
    },
    {
      "cell_type": "code",
      "execution_count": null,
      "metadata": {
        "colab": {
          "base_uri": "https://localhost:8080/",
          "height": 206
        },
        "id": "dWUAz6AcOcJS",
        "outputId": "3f7a8c89-58bc-4b80-9446-c272f4d462e6"
      },
      "outputs": [
        {
          "output_type": "execute_result",
          "data": {
            "text/plain": [
              "    Sentence #                                           Sentence  \\\n",
              "0  Sentence: 1  Thousands of demonstrators have marched throug...   \n",
              "1  Sentence: 2  Families of soldiers killed in the conflict jo...   \n",
              "2  Sentence: 3  They marched from the Houses of Parliament to ...   \n",
              "3  Sentence: 4  Police put the number of marchers at 10,000 wh...   \n",
              "4  Sentence: 5  The protest comes on the eve of the annual con...   \n",
              "\n",
              "                                                 POS  \\\n",
              "0  ['NNS', 'IN', 'NNS', 'VBP', 'VBN', 'IN', 'NNP'...   \n",
              "1  ['NNS', 'IN', 'NNS', 'VBN', 'IN', 'DT', 'NN', ...   \n",
              "2  ['PRP', 'VBD', 'IN', 'DT', 'NNS', 'IN', 'NN', ...   \n",
              "3  ['NNS', 'VBD', 'DT', 'NN', 'IN', 'NNS', 'IN', ...   \n",
              "4  ['DT', 'NN', 'VBZ', 'IN', 'DT', 'NN', 'IN', 'D...   \n",
              "\n",
              "                                                 Tag  \n",
              "0  ['O', 'O', 'O', 'O', 'O', 'O', 'B-geo', 'O', '...  \n",
              "1  ['O', 'O', 'O', 'O', 'O', 'O', 'O', 'O', 'O', ...  \n",
              "2  ['O', 'O', 'O', 'O', 'O', 'O', 'O', 'O', 'O', ...  \n",
              "3  ['O', 'O', 'O', 'O', 'O', 'O', 'O', 'O', 'O', ...  \n",
              "4  ['O', 'O', 'O', 'O', 'O', 'O', 'O', 'O', 'O', ...  "
            ],
            "text/html": [
              "\n",
              "  <div id=\"df-5946d683-8b23-4f87-90d2-f0833b8f940d\">\n",
              "    <div class=\"colab-df-container\">\n",
              "      <div>\n",
              "<style scoped>\n",
              "    .dataframe tbody tr th:only-of-type {\n",
              "        vertical-align: middle;\n",
              "    }\n",
              "\n",
              "    .dataframe tbody tr th {\n",
              "        vertical-align: top;\n",
              "    }\n",
              "\n",
              "    .dataframe thead th {\n",
              "        text-align: right;\n",
              "    }\n",
              "</style>\n",
              "<table border=\"1\" class=\"dataframe\">\n",
              "  <thead>\n",
              "    <tr style=\"text-align: right;\">\n",
              "      <th></th>\n",
              "      <th>Sentence #</th>\n",
              "      <th>Sentence</th>\n",
              "      <th>POS</th>\n",
              "      <th>Tag</th>\n",
              "    </tr>\n",
              "  </thead>\n",
              "  <tbody>\n",
              "    <tr>\n",
              "      <th>0</th>\n",
              "      <td>Sentence: 1</td>\n",
              "      <td>Thousands of demonstrators have marched throug...</td>\n",
              "      <td>['NNS', 'IN', 'NNS', 'VBP', 'VBN', 'IN', 'NNP'...</td>\n",
              "      <td>['O', 'O', 'O', 'O', 'O', 'O', 'B-geo', 'O', '...</td>\n",
              "    </tr>\n",
              "    <tr>\n",
              "      <th>1</th>\n",
              "      <td>Sentence: 2</td>\n",
              "      <td>Families of soldiers killed in the conflict jo...</td>\n",
              "      <td>['NNS', 'IN', 'NNS', 'VBN', 'IN', 'DT', 'NN', ...</td>\n",
              "      <td>['O', 'O', 'O', 'O', 'O', 'O', 'O', 'O', 'O', ...</td>\n",
              "    </tr>\n",
              "    <tr>\n",
              "      <th>2</th>\n",
              "      <td>Sentence: 3</td>\n",
              "      <td>They marched from the Houses of Parliament to ...</td>\n",
              "      <td>['PRP', 'VBD', 'IN', 'DT', 'NNS', 'IN', 'NN', ...</td>\n",
              "      <td>['O', 'O', 'O', 'O', 'O', 'O', 'O', 'O', 'O', ...</td>\n",
              "    </tr>\n",
              "    <tr>\n",
              "      <th>3</th>\n",
              "      <td>Sentence: 4</td>\n",
              "      <td>Police put the number of marchers at 10,000 wh...</td>\n",
              "      <td>['NNS', 'VBD', 'DT', 'NN', 'IN', 'NNS', 'IN', ...</td>\n",
              "      <td>['O', 'O', 'O', 'O', 'O', 'O', 'O', 'O', 'O', ...</td>\n",
              "    </tr>\n",
              "    <tr>\n",
              "      <th>4</th>\n",
              "      <td>Sentence: 5</td>\n",
              "      <td>The protest comes on the eve of the annual con...</td>\n",
              "      <td>['DT', 'NN', 'VBZ', 'IN', 'DT', 'NN', 'IN', 'D...</td>\n",
              "      <td>['O', 'O', 'O', 'O', 'O', 'O', 'O', 'O', 'O', ...</td>\n",
              "    </tr>\n",
              "  </tbody>\n",
              "</table>\n",
              "</div>\n",
              "      <button class=\"colab-df-convert\" onclick=\"convertToInteractive('df-5946d683-8b23-4f87-90d2-f0833b8f940d')\"\n",
              "              title=\"Convert this dataframe to an interactive table.\"\n",
              "              style=\"display:none;\">\n",
              "        \n",
              "  <svg xmlns=\"http://www.w3.org/2000/svg\" height=\"24px\"viewBox=\"0 0 24 24\"\n",
              "       width=\"24px\">\n",
              "    <path d=\"M0 0h24v24H0V0z\" fill=\"none\"/>\n",
              "    <path d=\"M18.56 5.44l.94 2.06.94-2.06 2.06-.94-2.06-.94-.94-2.06-.94 2.06-2.06.94zm-11 1L8.5 8.5l.94-2.06 2.06-.94-2.06-.94L8.5 2.5l-.94 2.06-2.06.94zm10 10l.94 2.06.94-2.06 2.06-.94-2.06-.94-.94-2.06-.94 2.06-2.06.94z\"/><path d=\"M17.41 7.96l-1.37-1.37c-.4-.4-.92-.59-1.43-.59-.52 0-1.04.2-1.43.59L10.3 9.45l-7.72 7.72c-.78.78-.78 2.05 0 2.83L4 21.41c.39.39.9.59 1.41.59.51 0 1.02-.2 1.41-.59l7.78-7.78 2.81-2.81c.8-.78.8-2.07 0-2.86zM5.41 20L4 18.59l7.72-7.72 1.47 1.35L5.41 20z\"/>\n",
              "  </svg>\n",
              "      </button>\n",
              "      \n",
              "  <style>\n",
              "    .colab-df-container {\n",
              "      display:flex;\n",
              "      flex-wrap:wrap;\n",
              "      gap: 12px;\n",
              "    }\n",
              "\n",
              "    .colab-df-convert {\n",
              "      background-color: #E8F0FE;\n",
              "      border: none;\n",
              "      border-radius: 50%;\n",
              "      cursor: pointer;\n",
              "      display: none;\n",
              "      fill: #1967D2;\n",
              "      height: 32px;\n",
              "      padding: 0 0 0 0;\n",
              "      width: 32px;\n",
              "    }\n",
              "\n",
              "    .colab-df-convert:hover {\n",
              "      background-color: #E2EBFA;\n",
              "      box-shadow: 0px 1px 2px rgba(60, 64, 67, 0.3), 0px 1px 3px 1px rgba(60, 64, 67, 0.15);\n",
              "      fill: #174EA6;\n",
              "    }\n",
              "\n",
              "    [theme=dark] .colab-df-convert {\n",
              "      background-color: #3B4455;\n",
              "      fill: #D2E3FC;\n",
              "    }\n",
              "\n",
              "    [theme=dark] .colab-df-convert:hover {\n",
              "      background-color: #434B5C;\n",
              "      box-shadow: 0px 1px 3px 1px rgba(0, 0, 0, 0.15);\n",
              "      filter: drop-shadow(0px 1px 2px rgba(0, 0, 0, 0.3));\n",
              "      fill: #FFFFFF;\n",
              "    }\n",
              "  </style>\n",
              "\n",
              "      <script>\n",
              "        const buttonEl =\n",
              "          document.querySelector('#df-5946d683-8b23-4f87-90d2-f0833b8f940d button.colab-df-convert');\n",
              "        buttonEl.style.display =\n",
              "          google.colab.kernel.accessAllowed ? 'block' : 'none';\n",
              "\n",
              "        async function convertToInteractive(key) {\n",
              "          const element = document.querySelector('#df-5946d683-8b23-4f87-90d2-f0833b8f940d');\n",
              "          const dataTable =\n",
              "            await google.colab.kernel.invokeFunction('convertToInteractive',\n",
              "                                                     [key], {});\n",
              "          if (!dataTable) return;\n",
              "\n",
              "          const docLinkHtml = 'Like what you see? Visit the ' +\n",
              "            '<a target=\"_blank\" href=https://colab.research.google.com/notebooks/data_table.ipynb>data table notebook</a>'\n",
              "            + ' to learn more about interactive tables.';\n",
              "          element.innerHTML = '';\n",
              "          dataTable['output_type'] = 'display_data';\n",
              "          await google.colab.output.renderOutput(dataTable, element);\n",
              "          const docLink = document.createElement('div');\n",
              "          docLink.innerHTML = docLinkHtml;\n",
              "          element.appendChild(docLink);\n",
              "        }\n",
              "      </script>\n",
              "    </div>\n",
              "  </div>\n",
              "  "
            ]
          },
          "metadata": {},
          "execution_count": 12
        }
      ],
      "source": [
        "df_sentences.head()"
      ]
    },
    {
      "cell_type": "code",
      "execution_count": null,
      "metadata": {
        "id": "DL-wBj9JPWSn"
      },
      "outputs": [],
      "source": [
        "X = list(df_sentences[\"Sentence\"])\n",
        "Y = list(df_sentences[\"Tag\"])"
      ]
    },
    {
      "cell_type": "code",
      "execution_count": null,
      "metadata": {
        "colab": {
          "base_uri": "https://localhost:8080/"
        },
        "id": "4x0jYNF3QC_B",
        "outputId": "97bd14f8-09e4-4d86-8525-545367c201cc"
      },
      "outputs": [
        {
          "output_type": "execute_result",
          "data": {
            "text/plain": [
              "47959"
            ]
          },
          "metadata": {},
          "execution_count": 14
        }
      ],
      "source": [
        "len(X)"
      ]
    },
    {
      "cell_type": "code",
      "execution_count": null,
      "metadata": {
        "id": "GoPlKf2rQDW-"
      },
      "outputs": [],
      "source": [
        "#Converting out Tags to list of tags to match our sentences\n",
        "from ast import literal_eval\n",
        "Y_ready = []\n",
        "\n",
        "for sen_tags in Y:\n",
        "    Y_ready.append(literal_eval(sen_tags))\n"
      ]
    },
    {
      "cell_type": "markdown",
      "metadata": {
        "id": "CurZFWYSbPMB"
      },
      "source": [
        "###Tokenization"
      ]
    },
    {
      "cell_type": "code",
      "execution_count": null,
      "metadata": {
        "id": "e9Q7NVAUQvhq"
      },
      "outputs": [],
      "source": [
        "from keras.preprocessing.text import Tokenizer\n",
        "from keras.utils import pad_sequences\n"
      ]
    },
    {
      "cell_type": "code",
      "execution_count": null,
      "metadata": {
        "id": "J4kMj0RuRNW9"
      },
      "outputs": [],
      "source": [
        "# cutoff reviews after 110 words\n",
        "maxlen = 110\n",
        "\n",
        "# consider the top 36000 words in the dataset\n",
        "max_words = 36000\n",
        "\n",
        "# tokenize each sentence in the dataset\n",
        "tokenizer = Tokenizer(num_words=max_words)\n",
        "tokenizer.fit_on_texts(X)\n",
        "sequences = tokenizer.texts_to_sequences(X)\n"
      ]
    },
    {
      "cell_type": "code",
      "execution_count": null,
      "metadata": {
        "id": "0N3bvh8XZTwM"
      },
      "outputs": [],
      "source": [
        "word_index = tokenizer.word_index\n"
      ]
    },
    {
      "cell_type": "markdown",
      "metadata": {
        "id": "FMGW5yaRbUVC"
      },
      "source": [
        "###Sentence Padding"
      ]
    },
    {
      "cell_type": "code",
      "execution_count": null,
      "metadata": {
        "id": "J3RNlh1Fa89R"
      },
      "outputs": [],
      "source": [
        "X_preprocessed = pad_sequences(sequences, maxlen=maxlen, padding='post')\n",
        "X_ready = X_preprocessed[0:int(47959*0.7)]\n",
        "X_test = X_preprocessed[int(47959*0.7):]\n"
      ]
    },
    {
      "cell_type": "code",
      "execution_count": null,
      "metadata": {
        "id": "o5gM3GaAhr3Q"
      },
      "outputs": [],
      "source": [
        "# dict. that map each tag to its identifier\n",
        "tags2id = {}\n",
        "for i, tag in enumerate(unique_tags):\n",
        "    tags2id[tag] = i\n",
        "    \n",
        "#print(tags2id)\n",
        "\n",
        "id2tags = {}\n",
        "for i, tag in enumerate(unique_tags):\n",
        "    id2tags[i] = tag\n",
        "#print(id2tags)"
      ]
    },
    {
      "cell_type": "code",
      "execution_count": null,
      "metadata": {
        "id": "kfz-ip2jix38"
      },
      "outputs": [],
      "source": [
        "def preprocess_tags(tags2id, Y_ready):\n",
        "    \n",
        "    Y_preprocessed = []\n",
        "    maxlen = 110\n",
        "    # for each target \n",
        "    for y in Y_ready:\n",
        "        \n",
        "        # place holder to store the new preprocessed tag list\n",
        "        Y_place_holder = []\n",
        "        \n",
        "        # for each tag in rhe tag list \n",
        "        for tag in y:\n",
        "            # append the id of the tag in the place holder list\n",
        "            Y_place_holder.append(tags2id[tag])\n",
        "        \n",
        "        # find the lenght of the new preprocessed tag list \n",
        "        len_new_tag_list = len(Y_place_holder)\n",
        "        # find the differance in length between the len of tag list and padded sentences\n",
        "        num_O_to_add = maxlen - len_new_tag_list\n",
        "        \n",
        "        # add 'O's to padd the tag lists\n",
        "        padded_tags = Y_place_holder + ([tags2id['O']] * num_O_to_add)\n",
        "        Y_preprocessed.append(padded_tags)\n",
        "        \n",
        "    return Y_preprocessed"
      ]
    },
    {
      "cell_type": "code",
      "execution_count": null,
      "metadata": {
        "colab": {
          "base_uri": "https://localhost:8080/"
        },
        "id": "GtTlWsboi0tB",
        "outputId": "45165a57-ba1a-4d35-b96f-0d7c70d008b5"
      },
      "outputs": [
        {
          "output_type": "stream",
          "name": "stdout",
          "text": [
            "14388\n"
          ]
        }
      ],
      "source": [
        "Y_preprocessed = preprocess_tags(tags2id, Y_ready)\n",
        "Y_ready = Y_preprocessed[0:int(47959*0.7)]\n",
        "Y_test = Y_preprocessed[int(47959*0.7):]\n",
        "print(len(Y_test))"
      ]
    },
    {
      "cell_type": "code",
      "execution_count": null,
      "metadata": {
        "id": "FL-8UX8iFeCr"
      },
      "outputs": [],
      "source": [
        "X_preprocessed = np.array(X_preprocessed)\n",
        "Y_preprocessed = np.array(Y_preprocessed)\n",
        "\n"
      ]
    },
    {
      "cell_type": "code",
      "execution_count": null,
      "metadata": {
        "colab": {
          "base_uri": "https://localhost:8080/"
        },
        "id": "m_4TZ76rRn-L",
        "outputId": "56a75094-f915-4c53-af22-4d36a1ea9f8b"
      },
      "outputs": [
        {
          "output_type": "stream",
          "name": "stdout",
          "text": [
            "Looking in indexes: https://pypi.org/simple, https://us-python.pkg.dev/colab-wheels/public/simple/\n",
            "Collecting iterative-stratification\n",
            "  Downloading iterative_stratification-0.1.7-py3-none-any.whl (8.5 kB)\n",
            "Requirement already satisfied: numpy in /usr/local/lib/python3.9/dist-packages (from iterative-stratification) (1.22.4)\n",
            "Requirement already satisfied: scipy in /usr/local/lib/python3.9/dist-packages (from iterative-stratification) (1.10.1)\n",
            "Requirement already satisfied: scikit-learn in /usr/local/lib/python3.9/dist-packages (from iterative-stratification) (1.2.2)\n",
            "Requirement already satisfied: joblib>=1.1.1 in /usr/local/lib/python3.9/dist-packages (from scikit-learn->iterative-stratification) (1.2.0)\n",
            "Requirement already satisfied: threadpoolctl>=2.0.0 in /usr/local/lib/python3.9/dist-packages (from scikit-learn->iterative-stratification) (3.1.0)\n",
            "Installing collected packages: iterative-stratification\n",
            "Successfully installed iterative-stratification-0.1.7\n",
            "Looking in indexes: https://pypi.org/simple, https://us-python.pkg.dev/colab-wheels/public/simple/\n",
            "Collecting tf2crf\n",
            "  Downloading tf2crf-0.1.33-py2.py3-none-any.whl (7.3 kB)\n",
            "Requirement already satisfied: tensorflow>=2.1.0 in /usr/local/lib/python3.9/dist-packages (from tf2crf) (2.12.0)\n",
            "Collecting tensorflow-addons>=0.8.2\n",
            "  Downloading tensorflow_addons-0.20.0-cp39-cp39-manylinux_2_17_x86_64.manylinux2014_x86_64.whl (591 kB)\n",
            "\u001b[2K     \u001b[90m━━━━━━━━━━━━━━━━━━━━━━━━━━━━━━━━━━━━━━\u001b[0m \u001b[32m591.0/591.0 kB\u001b[0m \u001b[31m38.8 MB/s\u001b[0m eta \u001b[36m0:00:00\u001b[0m\n",
            "\u001b[?25hRequirement already satisfied: opt-einsum>=2.3.2 in /usr/local/lib/python3.9/dist-packages (from tensorflow>=2.1.0->tf2crf) (3.3.0)\n",
            "Requirement already satisfied: wrapt<1.15,>=1.11.0 in /usr/local/lib/python3.9/dist-packages (from tensorflow>=2.1.0->tf2crf) (1.14.1)\n",
            "Requirement already satisfied: gast<=0.4.0,>=0.2.1 in /usr/local/lib/python3.9/dist-packages (from tensorflow>=2.1.0->tf2crf) (0.4.0)\n",
            "Requirement already satisfied: h5py>=2.9.0 in /usr/local/lib/python3.9/dist-packages (from tensorflow>=2.1.0->tf2crf) (3.8.0)\n",
            "Requirement already satisfied: libclang>=13.0.0 in /usr/local/lib/python3.9/dist-packages (from tensorflow>=2.1.0->tf2crf) (16.0.0)\n",
            "Requirement already satisfied: keras<2.13,>=2.12.0 in /usr/local/lib/python3.9/dist-packages (from tensorflow>=2.1.0->tf2crf) (2.12.0)\n",
            "Requirement already satisfied: six>=1.12.0 in /usr/local/lib/python3.9/dist-packages (from tensorflow>=2.1.0->tf2crf) (1.16.0)\n",
            "Requirement already satisfied: flatbuffers>=2.0 in /usr/local/lib/python3.9/dist-packages (from tensorflow>=2.1.0->tf2crf) (23.3.3)\n",
            "Requirement already satisfied: tensorboard<2.13,>=2.12 in /usr/local/lib/python3.9/dist-packages (from tensorflow>=2.1.0->tf2crf) (2.12.2)\n",
            "Requirement already satisfied: tensorflow-io-gcs-filesystem>=0.23.1 in /usr/local/lib/python3.9/dist-packages (from tensorflow>=2.1.0->tf2crf) (0.32.0)\n",
            "Requirement already satisfied: jax>=0.3.15 in /usr/local/lib/python3.9/dist-packages (from tensorflow>=2.1.0->tf2crf) (0.4.8)\n",
            "Requirement already satisfied: setuptools in /usr/local/lib/python3.9/dist-packages (from tensorflow>=2.1.0->tf2crf) (67.7.1)\n",
            "Requirement already satisfied: tensorflow-estimator<2.13,>=2.12.0 in /usr/local/lib/python3.9/dist-packages (from tensorflow>=2.1.0->tf2crf) (2.12.0)\n",
            "Requirement already satisfied: numpy<1.24,>=1.22 in /usr/local/lib/python3.9/dist-packages (from tensorflow>=2.1.0->tf2crf) (1.22.4)\n",
            "Requirement already satisfied: protobuf!=4.21.0,!=4.21.1,!=4.21.2,!=4.21.3,!=4.21.4,!=4.21.5,<5.0.0dev,>=3.20.3 in /usr/local/lib/python3.9/dist-packages (from tensorflow>=2.1.0->tf2crf) (3.20.3)\n",
            "Requirement already satisfied: packaging in /usr/local/lib/python3.9/dist-packages (from tensorflow>=2.1.0->tf2crf) (23.1)\n",
            "Requirement already satisfied: absl-py>=1.0.0 in /usr/local/lib/python3.9/dist-packages (from tensorflow>=2.1.0->tf2crf) (1.4.0)\n",
            "Requirement already satisfied: google-pasta>=0.1.1 in /usr/local/lib/python3.9/dist-packages (from tensorflow>=2.1.0->tf2crf) (0.2.0)\n",
            "Requirement already satisfied: typing-extensions>=3.6.6 in /usr/local/lib/python3.9/dist-packages (from tensorflow>=2.1.0->tf2crf) (4.5.0)\n",
            "Requirement already satisfied: astunparse>=1.6.0 in /usr/local/lib/python3.9/dist-packages (from tensorflow>=2.1.0->tf2crf) (1.6.3)\n",
            "Requirement already satisfied: grpcio<2.0,>=1.24.3 in /usr/local/lib/python3.9/dist-packages (from tensorflow>=2.1.0->tf2crf) (1.53.0)\n",
            "Requirement already satisfied: termcolor>=1.1.0 in /usr/local/lib/python3.9/dist-packages (from tensorflow>=2.1.0->tf2crf) (2.2.0)\n",
            "Collecting typeguard<3.0.0,>=2.7\n",
            "  Downloading typeguard-2.13.3-py3-none-any.whl (17 kB)\n",
            "Requirement already satisfied: wheel<1.0,>=0.23.0 in /usr/local/lib/python3.9/dist-packages (from astunparse>=1.6.0->tensorflow>=2.1.0->tf2crf) (0.40.0)\n",
            "Requirement already satisfied: scipy>=1.7 in /usr/local/lib/python3.9/dist-packages (from jax>=0.3.15->tensorflow>=2.1.0->tf2crf) (1.10.1)\n",
            "Requirement already satisfied: ml-dtypes>=0.0.3 in /usr/local/lib/python3.9/dist-packages (from jax>=0.3.15->tensorflow>=2.1.0->tf2crf) (0.1.0)\n",
            "Requirement already satisfied: werkzeug>=1.0.1 in /usr/local/lib/python3.9/dist-packages (from tensorboard<2.13,>=2.12->tensorflow>=2.1.0->tf2crf) (2.2.3)\n",
            "Requirement already satisfied: tensorboard-data-server<0.8.0,>=0.7.0 in /usr/local/lib/python3.9/dist-packages (from tensorboard<2.13,>=2.12->tensorflow>=2.1.0->tf2crf) (0.7.0)\n",
            "Requirement already satisfied: google-auth-oauthlib<1.1,>=0.5 in /usr/local/lib/python3.9/dist-packages (from tensorboard<2.13,>=2.12->tensorflow>=2.1.0->tf2crf) (1.0.0)\n",
            "Requirement already satisfied: markdown>=2.6.8 in /usr/local/lib/python3.9/dist-packages (from tensorboard<2.13,>=2.12->tensorflow>=2.1.0->tf2crf) (3.4.3)\n",
            "Requirement already satisfied: requests<3,>=2.21.0 in /usr/local/lib/python3.9/dist-packages (from tensorboard<2.13,>=2.12->tensorflow>=2.1.0->tf2crf) (2.27.1)\n",
            "Requirement already satisfied: google-auth<3,>=1.6.3 in /usr/local/lib/python3.9/dist-packages (from tensorboard<2.13,>=2.12->tensorflow>=2.1.0->tf2crf) (2.17.3)\n",
            "Requirement already satisfied: tensorboard-plugin-wit>=1.6.0 in /usr/local/lib/python3.9/dist-packages (from tensorboard<2.13,>=2.12->tensorflow>=2.1.0->tf2crf) (1.8.1)\n",
            "Requirement already satisfied: rsa<5,>=3.1.4 in /usr/local/lib/python3.9/dist-packages (from google-auth<3,>=1.6.3->tensorboard<2.13,>=2.12->tensorflow>=2.1.0->tf2crf) (4.9)\n",
            "Requirement already satisfied: pyasn1-modules>=0.2.1 in /usr/local/lib/python3.9/dist-packages (from google-auth<3,>=1.6.3->tensorboard<2.13,>=2.12->tensorflow>=2.1.0->tf2crf) (0.2.8)\n",
            "Requirement already satisfied: cachetools<6.0,>=2.0.0 in /usr/local/lib/python3.9/dist-packages (from google-auth<3,>=1.6.3->tensorboard<2.13,>=2.12->tensorflow>=2.1.0->tf2crf) (5.3.0)\n",
            "Requirement already satisfied: requests-oauthlib>=0.7.0 in /usr/local/lib/python3.9/dist-packages (from google-auth-oauthlib<1.1,>=0.5->tensorboard<2.13,>=2.12->tensorflow>=2.1.0->tf2crf) (1.3.1)\n",
            "Requirement already satisfied: importlib-metadata>=4.4 in /usr/local/lib/python3.9/dist-packages (from markdown>=2.6.8->tensorboard<2.13,>=2.12->tensorflow>=2.1.0->tf2crf) (6.4.1)\n",
            "Requirement already satisfied: certifi>=2017.4.17 in /usr/local/lib/python3.9/dist-packages (from requests<3,>=2.21.0->tensorboard<2.13,>=2.12->tensorflow>=2.1.0->tf2crf) (2022.12.7)\n",
            "Requirement already satisfied: urllib3<1.27,>=1.21.1 in /usr/local/lib/python3.9/dist-packages (from requests<3,>=2.21.0->tensorboard<2.13,>=2.12->tensorflow>=2.1.0->tf2crf) (1.26.15)\n",
            "Requirement already satisfied: charset-normalizer~=2.0.0 in /usr/local/lib/python3.9/dist-packages (from requests<3,>=2.21.0->tensorboard<2.13,>=2.12->tensorflow>=2.1.0->tf2crf) (2.0.12)\n",
            "Requirement already satisfied: idna<4,>=2.5 in /usr/local/lib/python3.9/dist-packages (from requests<3,>=2.21.0->tensorboard<2.13,>=2.12->tensorflow>=2.1.0->tf2crf) (3.4)\n",
            "Requirement already satisfied: MarkupSafe>=2.1.1 in /usr/local/lib/python3.9/dist-packages (from werkzeug>=1.0.1->tensorboard<2.13,>=2.12->tensorflow>=2.1.0->tf2crf) (2.1.2)\n",
            "Requirement already satisfied: zipp>=0.5 in /usr/local/lib/python3.9/dist-packages (from importlib-metadata>=4.4->markdown>=2.6.8->tensorboard<2.13,>=2.12->tensorflow>=2.1.0->tf2crf) (3.15.0)\n",
            "Requirement already satisfied: pyasn1<0.5.0,>=0.4.6 in /usr/local/lib/python3.9/dist-packages (from pyasn1-modules>=0.2.1->google-auth<3,>=1.6.3->tensorboard<2.13,>=2.12->tensorflow>=2.1.0->tf2crf) (0.4.8)\n",
            "Requirement already satisfied: oauthlib>=3.0.0 in /usr/local/lib/python3.9/dist-packages (from requests-oauthlib>=0.7.0->google-auth-oauthlib<1.1,>=0.5->tensorboard<2.13,>=2.12->tensorflow>=2.1.0->tf2crf) (3.2.2)\n",
            "Installing collected packages: typeguard, tensorflow-addons, tf2crf\n",
            "Successfully installed tensorflow-addons-0.20.0 tf2crf-0.1.33 typeguard-2.13.3\n"
          ]
        }
      ],
      "source": [
        "!pip install iterative-stratification\n",
        "!pip install tf2crf\n"
      ]
    },
    {
      "cell_type": "code",
      "execution_count": null,
      "metadata": {
        "colab": {
          "base_uri": "https://localhost:8080/"
        },
        "id": "7t8acLnTTsP-",
        "outputId": "3dda3593-23ab-4f71-f53c-46354a250614"
      },
      "outputs": [
        {
          "output_type": "stream",
          "name": "stderr",
          "text": [
            "/usr/local/lib/python3.9/dist-packages/tensorflow_addons/utils/tfa_eol_msg.py:23: UserWarning: \n",
            "\n",
            "TensorFlow Addons (TFA) has ended development and introduction of new features.\n",
            "TFA has entered a minimal maintenance and release mode until a planned end of life in May 2024.\n",
            "Please modify downstream libraries to take dependencies from other repositories in our TensorFlow community (e.g. Keras, Keras-CV, and Keras-NLP). \n",
            "\n",
            "For more information see: https://github.com/tensorflow/addons/issues/2807 \n",
            "\n",
            "  warnings.warn(\n"
          ]
        }
      ],
      "source": [
        "import tensorflow as tf\n",
        "from tensorflow import keras\n",
        "from keras import layers\n",
        "from keras.models import Sequential \n",
        "from iterstrat.ml_stratifiers import MultilabelStratifiedKFold\n",
        "\n",
        "from tf2crf import CRF, ModelWithCRFLoss\n",
        "from keras.models import Model\n",
        "from keras.layers import Input\n",
        "\n",
        "\n",
        "\n",
        "\n",
        "def bidirect_NN_model():\n",
        "    embedding_dim = 128\n",
        "    maxlen = 110\n",
        "    max_words = 36000\n",
        "    num_tags = len(unique_tags)\n",
        "    input_layer = Input(shape=(maxlen,), dtype='int32')\n",
        "    embedding_layer = tf.keras.layers.Embedding(max_words, embedding_dim, input_length=maxlen)(input_layer)\n",
        "    bidirectional_lstm_1 = tf.keras.layers.Bidirectional(tf.keras.layers.LSTM(units=64, activation='tanh', return_sequences=True))(embedding_layer)\n",
        "    bidirectional_lstm_2 = tf.keras.layers.Bidirectional(tf.keras.layers.LSTM(units=64, activation='tanh', return_sequences=True))(bidirectional_lstm_1)\n",
        "\n",
        "    crf = CRF(num_tags)\n",
        "    output_layer = crf(bidirectional_lstm_2)\n",
        "\n",
        "    model = Model(inputs=input_layer, outputs=output_layer)\n",
        "\n",
        "    model.summary()\n",
        "    return model , crf\n",
        "\n",
        "def get_sample_weights(y, class_weights):\n",
        "    sample_weights = np.zeros(y.shape)\n",
        "    for i in range(y.shape[0]):\n",
        "        for j in range(y.shape[1]):\n",
        "            sample_weights[i, j] = class_weights[y[i, j]]\n",
        "    return sample_weights\n",
        "\n",
        "def evaluation(model,X_test,Y_test):\n",
        "  \n",
        "  #Calculate Predictions\n",
        "  Y_pred = model.predict(X_test)\n"
      ]
    },
    {
      "cell_type": "code",
      "execution_count": null,
      "metadata": {
        "id": "Q6XCBNNiplcf"
      },
      "outputs": [],
      "source": [
        "n_splits = 5\n",
        "mskf = MultilabelStratifiedKFold(n_splits=n_splits, shuffle=True, random_state=42)"
      ]
    },
    {
      "cell_type": "code",
      "execution_count": null,
      "metadata": {
        "id": "x-Eo0c3gQPMx"
      },
      "outputs": [],
      "source": [
        "from sklearn.utils.class_weight import compute_class_weight\n",
        "\n",
        "def Bi_Directional_LSTM_CRF(X_preprocessed,Y_preprocessed):\n",
        "    #accuracies = []\n",
        "\n",
        "    u_tags = sorted(set(np.ravel(Y_preprocessed)))  # Find unique tags in the dataset\n",
        "    class_weights = compute_class_weight('balanced', classes=u_tags, y=np.ravel(Y_preprocessed))\n",
        "    class_weight_dict = dict(enumerate(class_weights))\n",
        "\n",
        "    #X_train, Y_train , X_valid, Y_valid, X_test, Y_test = split_X_Y(X_preprocessed, Y_preprocessed)\n",
        "\n",
        "\n",
        "    X_1 = X_preprocessed[0: int(X_preprocessed.shape[0]*0.8) ]\n",
        "    Y_1 = Y_preprocessed[0: int(Y_preprocessed.shape[0]*0.8) ]\n",
        "\n",
        "    X_test = X_preprocessed[int(X_preprocessed.shape[0]*0.8) : ]\n",
        "    Y_test = Y_preprocessed[int(Y_preprocessed.shape[0]*0.8):  ] \n",
        "\n",
        "    \n",
        "    for train_index, valid_index in mskf.split(X_1, Y_1):\n",
        "      X_train, X_valid = X_1[train_index], X_1[valid_index] \n",
        "      Y_train, Y_valid = Y_1[train_index], Y_1[valid_index]  \n",
        "\n",
        "\n",
        "\n",
        "      model , crf = bidirect_NN_model()\n",
        "\n",
        "      #model.add(crf) # Add the CRF layer to the model\n",
        "      model = ModelWithCRFLoss(model, crf) \n",
        "      #compile the model\n",
        "      model.compile(optimizer='adam')\n",
        "\n",
        "      sample_weights_train = get_sample_weights(Y_train, class_weight_dict)\n",
        "      sample_weights_valid = get_sample_weights(Y_valid, class_weight_dict)\n",
        "\n",
        "\n",
        "      #train the model\n",
        "      model.fit(X_train, Y_train, validation_data=(X_valid, Y_valid), epochs=5, sample_weight=sample_weights_train)\n",
        "\n",
        "\n",
        "      sample_weights_test = get_sample_weights(Y_test, class_weight_dict)\n",
        "\n",
        "\n",
        "      #Evaluation\n",
        "      #result = model.evaluate(X_test , Y_test ,sample_weight=sample_weights_test)[1]\n",
        "\n",
        "      #accuracies.append(result)\n",
        "    #avg_accuracy =sum(accuracies)/5\n",
        "\n",
        "    \n",
        "\n",
        "\n",
        "\n",
        "\n",
        "    return  model , X_train, Y_train , X_test, Y_test"
      ]
    },
    {
      "cell_type": "code",
      "execution_count": null,
      "metadata": {
        "colab": {
          "base_uri": "https://localhost:8080/"
        },
        "id": "3uFo1KTlQY1a",
        "outputId": "bcc67237-b978-4140-d39f-8fd43ae1b287"
      },
      "outputs": [
        {
          "output_type": "stream",
          "name": "stdout",
          "text": [
            "Model: \"model\"\n",
            "_________________________________________________________________\n",
            " Layer (type)                Output Shape              Param #   \n",
            "=================================================================\n",
            " input_1 (InputLayer)        [(None, 110)]             0         \n",
            "                                                                 \n",
            " embedding (Embedding)       (None, 110, 128)          4608000   \n",
            "                                                                 \n",
            " bidirectional (Bidirectiona  (None, 110, 128)         98816     \n",
            " l)                                                              \n",
            "                                                                 \n",
            " bidirectional_1 (Bidirectio  (None, 110, 128)         98816     \n",
            " nal)                                                            \n",
            "                                                                 \n",
            " crf (CRF)                   ((None, 110),             2482      \n",
            "                              (None, 110, 17),                   \n",
            "                              (None,),                           \n",
            "                              (17, 17))                          \n",
            "                                                                 \n",
            "=================================================================\n",
            "Total params: 4,808,114\n",
            "Trainable params: 4,808,114\n",
            "Non-trainable params: 0\n",
            "_________________________________________________________________\n",
            "Epoch 1/5\n",
            "960/960 [==============================] - 211s 204ms/step - loss: 14.5586 - accuracy: 0.9665 - val_loss_val: 8.3638 - val_val_accuracy: 0.9750\n",
            "Epoch 2/5\n",
            "960/960 [==============================] - 170s 178ms/step - loss: 6.6400 - accuracy: 0.9775 - val_loss_val: 5.9560 - val_val_accuracy: 0.9787\n",
            "Epoch 3/5\n",
            "960/960 [==============================] - 171s 178ms/step - loss: 4.7277 - accuracy: 0.9817 - val_loss_val: 5.3785 - val_val_accuracy: 0.9804\n",
            "Epoch 4/5\n",
            "960/960 [==============================] - 169s 176ms/step - loss: 3.7232 - accuracy: 0.9847 - val_loss_val: 5.2397 - val_val_accuracy: 0.9803\n",
            "Epoch 5/5\n",
            "960/960 [==============================] - 169s 176ms/step - loss: 3.0593 - accuracy: 0.9870 - val_loss_val: 5.5738 - val_val_accuracy: 0.9803\n",
            "Model: \"model_1\"\n",
            "_________________________________________________________________\n",
            " Layer (type)                Output Shape              Param #   \n",
            "=================================================================\n",
            " input_2 (InputLayer)        [(None, 110)]             0         \n",
            "                                                                 \n",
            " embedding_1 (Embedding)     (None, 110, 128)          4608000   \n",
            "                                                                 \n",
            " bidirectional_2 (Bidirectio  (None, 110, 128)         98816     \n",
            " nal)                                                            \n",
            "                                                                 \n",
            " bidirectional_3 (Bidirectio  (None, 110, 128)         98816     \n",
            " nal)                                                            \n",
            "                                                                 \n",
            " crf_1 (CRF)                 ((None, 110),             2482      \n",
            "                              (None, 110, 17),                   \n",
            "                              (None,),                           \n",
            "                              (17, 17))                          \n",
            "                                                                 \n",
            "=================================================================\n",
            "Total params: 4,808,114\n",
            "Trainable params: 4,808,114\n",
            "Non-trainable params: 0\n",
            "_________________________________________________________________\n",
            "Epoch 1/5\n",
            "960/960 [==============================] - 199s 198ms/step - loss: 14.3637 - accuracy: 0.9672 - val_loss_val: 8.3558 - val_val_accuracy: 0.9752\n",
            "Epoch 2/5\n",
            "960/960 [==============================] - 170s 177ms/step - loss: 6.6822 - accuracy: 0.9776 - val_loss_val: 5.9506 - val_val_accuracy: 0.9788\n",
            "Epoch 3/5\n",
            "960/960 [==============================] - 169s 176ms/step - loss: 4.8305 - accuracy: 0.9815 - val_loss_val: 5.3355 - val_val_accuracy: 0.9805\n",
            "Epoch 4/5\n",
            "960/960 [==============================] - 169s 176ms/step - loss: 3.7967 - accuracy: 0.9846 - val_loss_val: 5.1247 - val_val_accuracy: 0.9803\n",
            "Epoch 5/5\n",
            "960/960 [==============================] - 168s 175ms/step - loss: 3.1104 - accuracy: 0.9869 - val_loss_val: 5.2763 - val_val_accuracy: 0.9807\n",
            "Model: \"model_2\"\n",
            "_________________________________________________________________\n",
            " Layer (type)                Output Shape              Param #   \n",
            "=================================================================\n",
            " input_3 (InputLayer)        [(None, 110)]             0         \n",
            "                                                                 \n",
            " embedding_2 (Embedding)     (None, 110, 128)          4608000   \n",
            "                                                                 \n",
            " bidirectional_4 (Bidirectio  (None, 110, 128)         98816     \n",
            " nal)                                                            \n",
            "                                                                 \n",
            " bidirectional_5 (Bidirectio  (None, 110, 128)         98816     \n",
            " nal)                                                            \n",
            "                                                                 \n",
            " crf_2 (CRF)                 ((None, 110),             2482      \n",
            "                              (None, 110, 17),                   \n",
            "                              (None,),                           \n",
            "                              (17, 17))                          \n",
            "                                                                 \n",
            "=================================================================\n",
            "Total params: 4,808,114\n",
            "Trainable params: 4,808,114\n",
            "Non-trainable params: 0\n",
            "_________________________________________________________________\n",
            "Epoch 1/5\n",
            "960/960 [==============================] - 198s 197ms/step - loss: 14.1161 - accuracy: 0.9679 - val_loss_val: 8.1677 - val_val_accuracy: 0.9756\n",
            "Epoch 2/5\n",
            "960/960 [==============================] - 171s 178ms/step - loss: 6.5141 - accuracy: 0.9776 - val_loss_val: 6.1513 - val_val_accuracy: 0.9786\n",
            "Epoch 3/5\n",
            "960/960 [==============================] - 170s 177ms/step - loss: 4.7815 - accuracy: 0.9816 - val_loss_val: 5.4844 - val_val_accuracy: 0.9795\n",
            "Epoch 4/5\n",
            "960/960 [==============================] - 170s 177ms/step - loss: 3.7934 - accuracy: 0.9846 - val_loss_val: 5.3673 - val_val_accuracy: 0.9802\n",
            "Epoch 5/5\n",
            "960/960 [==============================] - 169s 176ms/step - loss: 3.1340 - accuracy: 0.9869 - val_loss_val: 5.4293 - val_val_accuracy: 0.9808\n",
            "Model: \"model_3\"\n",
            "_________________________________________________________________\n",
            " Layer (type)                Output Shape              Param #   \n",
            "=================================================================\n",
            " input_4 (InputLayer)        [(None, 110)]             0         \n",
            "                                                                 \n",
            " embedding_3 (Embedding)     (None, 110, 128)          4608000   \n",
            "                                                                 \n",
            " bidirectional_6 (Bidirectio  (None, 110, 128)         98816     \n",
            " nal)                                                            \n",
            "                                                                 \n",
            " bidirectional_7 (Bidirectio  (None, 110, 128)         98816     \n",
            " nal)                                                            \n",
            "                                                                 \n",
            " crf_3 (CRF)                 ((None, 110),             2482      \n",
            "                              (None, 110, 17),                   \n",
            "                              (None,),                           \n",
            "                              (17, 17))                          \n",
            "                                                                 \n",
            "=================================================================\n",
            "Total params: 4,808,114\n",
            "Trainable params: 4,808,114\n",
            "Non-trainable params: 0\n",
            "_________________________________________________________________\n",
            "Epoch 1/5\n",
            "960/960 [==============================] - 199s 198ms/step - loss: 14.7731 - accuracy: 0.9653 - val_loss_val: 8.4620 - val_val_accuracy: 0.9749\n",
            "Epoch 2/5\n",
            "960/960 [==============================] - 170s 177ms/step - loss: 6.5720 - accuracy: 0.9778 - val_loss_val: 5.8885 - val_val_accuracy: 0.9792\n",
            "Epoch 3/5\n",
            "960/960 [==============================] - 170s 177ms/step - loss: 4.6960 - accuracy: 0.9820 - val_loss_val: 5.2976 - val_val_accuracy: 0.9803\n",
            "Epoch 4/5\n",
            "960/960 [==============================] - 170s 177ms/step - loss: 3.7254 - accuracy: 0.9850 - val_loss_val: 5.3478 - val_val_accuracy: 0.9806\n",
            "Epoch 5/5\n",
            "960/960 [==============================] - 169s 176ms/step - loss: 3.0479 - accuracy: 0.9873 - val_loss_val: 5.6130 - val_val_accuracy: 0.9805\n",
            "Model: \"model_4\"\n",
            "_________________________________________________________________\n",
            " Layer (type)                Output Shape              Param #   \n",
            "=================================================================\n",
            " input_5 (InputLayer)        [(None, 110)]             0         \n",
            "                                                                 \n",
            " embedding_4 (Embedding)     (None, 110, 128)          4608000   \n",
            "                                                                 \n",
            " bidirectional_8 (Bidirectio  (None, 110, 128)         98816     \n",
            " nal)                                                            \n",
            "                                                                 \n",
            " bidirectional_9 (Bidirectio  (None, 110, 128)         98816     \n",
            " nal)                                                            \n",
            "                                                                 \n",
            " crf_4 (CRF)                 ((None, 110),             2482      \n",
            "                              (None, 110, 17),                   \n",
            "                              (None,),                           \n",
            "                              (17, 17))                          \n",
            "                                                                 \n",
            "=================================================================\n",
            "Total params: 4,808,114\n",
            "Trainable params: 4,808,114\n",
            "Non-trainable params: 0\n",
            "_________________________________________________________________\n",
            "Epoch 1/5\n",
            "960/960 [==============================] - 196s 195ms/step - loss: 14.9632 - accuracy: 0.9658 - val_loss_val: 8.8933 - val_val_accuracy: 0.9746\n",
            "Epoch 2/5\n",
            "960/960 [==============================] - 169s 176ms/step - loss: 6.7456 - accuracy: 0.9779 - val_loss_val: 6.1557 - val_val_accuracy: 0.9787\n",
            "Epoch 3/5\n",
            "960/960 [==============================] - 168s 175ms/step - loss: 4.7828 - accuracy: 0.9817 - val_loss_val: 5.4773 - val_val_accuracy: 0.9801\n",
            "Epoch 4/5\n",
            "960/960 [==============================] - 168s 175ms/step - loss: 3.7668 - accuracy: 0.9848 - val_loss_val: 5.3060 - val_val_accuracy: 0.9800\n",
            "Epoch 5/5\n",
            "960/960 [==============================] - 167s 174ms/step - loss: 3.1035 - accuracy: 0.9870 - val_loss_val: 5.5184 - val_val_accuracy: 0.9803\n"
          ]
        }
      ],
      "source": [
        "model, X_train, Y_train , X_test, Y_test = Bi_Directional_LSTM_CRF(X_preprocessed, Y_preprocessed)\n",
        "\n",
        "#print(\"Avg Accuracy for Bi directional Neural Network is :\",accuracy)"
      ]
    },
    {
      "cell_type": "code",
      "execution_count": null,
      "metadata": {
        "colab": {
          "base_uri": "https://localhost:8080/"
        },
        "id": "OYLUqtGXpFXT",
        "outputId": "dfd7f012-0805-41ec-baa1-1db74064bb7b"
      },
      "outputs": [
        {
          "output_type": "stream",
          "name": "stdout",
          "text": [
            "150/150 [==============================] - 9s 46ms/step\n"
          ]
        }
      ],
      "source": [
        "predictions = model.predict(X_test, batch_size=64)\n",
        "Y_pred= predictions\n",
        "Y_pred = np.argmax(Y_pred, axis=-1)"
      ]
    },
    {
      "cell_type": "code",
      "execution_count": null,
      "metadata": {
        "id": "c-XfBihvpJRU",
        "colab": {
          "base_uri": "https://localhost:8080/"
        },
        "outputId": "63aee940-69f3-4fd1-9047-5afe889a3914"
      },
      "outputs": [
        {
          "output_type": "stream",
          "name": "stdout",
          "text": [
            "Hamming Loss: 0.20440440563214443\n",
            "Jaccard Score: 0.21763941015661198\n",
            "F1 Score: 0.25655498298846924\n"
          ]
        },
        {
          "output_type": "stream",
          "name": "stderr",
          "text": [
            "/usr/local/lib/python3.9/dist-packages/sklearn/preprocessing/_label.py:895: UserWarning: unknown class(es) [17, 18, 19, 20, 21, 22, 23, 24, 25, 26, 27, 28, 29, 30, 31, 32, 33, 34, 35, 36, 37, 38, 39, 40, 42] will be ignored\n",
            "  warnings.warn(\n"
          ]
        }
      ],
      "source": [
        "from sklearn.preprocessing import MultiLabelBinarizer\n",
        "from sklearn.metrics import hamming_loss, jaccard_score, f1_score\n",
        "\n",
        "# Convert Y_test and Y_pred to lists of sets\n",
        "Y_test_sets = [set(y) for y in Y_test]\n",
        "Y_pred_sets = [set([tag]) for tag in Y_pred.ravel()]\n",
        "\n",
        "# Use MultiLabelBinarizer to convert the sets to binary arrays\n",
        "mlb = MultiLabelBinarizer()\n",
        "Y_test_bin = mlb.fit_transform(Y_test_sets)\n",
        "Y_pred_bin = mlb.transform(Y_pred_sets)\n",
        "\n",
        "# Calculate the metrics\n",
        "hl = hamming_loss(Y_test_bin, Y_pred_bin)\n",
        "js = jaccard_score(Y_test_bin, Y_pred_bin, average='samples')\n",
        "f1 = f1_score(Y_test_bin, Y_pred_bin, average='samples')\n",
        "\n",
        "print(\"Hamming Loss:\", hl)\n",
        "print(\"Jaccard Score:\", js)\n",
        "print(\"F1 Score:\", f1)\n"
      ]
    },
    {
      "cell_type": "code",
      "source": [
        "import matplotlib.pyplot as plt\n",
        "\n",
        "# Create the bar chart\n",
        "metrics = ['Hamming Loss', 'Jaccard Score', 'F1 Score']\n",
        "values = [hl, js, f1]\n",
        "\n",
        "plt.bar(metrics, values)\n",
        "plt.ylim(0, 1)\n",
        "plt.title('Evaluation Metrics')\n",
        "plt.ylabel('Score')\n",
        "plt.show()\n"
      ],
      "metadata": {
        "colab": {
          "base_uri": "https://localhost:8080/",
          "height": 452
        },
        "id": "45mmEv_OVLhD",
        "outputId": "8f414adc-55f6-4e7a-82a5-178673c773d4"
      },
      "execution_count": null,
      "outputs": [
        {
          "output_type": "display_data",
          "data": {
            "text/plain": [
              "<Figure size 640x480 with 1 Axes>"
            ],
            "image/png": "[encoded data removed]"
          },
          "metadata": {}
        }
      ]
    },
    {
      "cell_type": "code",
      "source": [
        "o_tag_index = list(unique_tags).index('O')\n",
        "\n",
        "Y_test_bin_no_o = np.delete(Y_test_bin, o_tag_index, axis=1)\n",
        "Y_pred_bin_no_o = np.delete(Y_pred_bin, o_tag_index, axis=1)\n",
        "\n",
        "hl_no_o = hamming_loss(Y_test_bin_no_o, Y_pred_bin_no_o)\n",
        "js_no_o = jaccard_score(Y_test_bin_no_o, Y_pred_bin_no_o, average='weighted')\n",
        "f1_no_o = f1_score(Y_test_bin_no_o, Y_pred_bin_no_o, average='weighted')\n",
        "\n",
        "print(\"Hamming Loss without 'O':\", hl_no_o)\n",
        "print(\"Jaccard Score without 'O':\", js_no_o)\n",
        "print(\"F1 Score without 'O':\", f1_no_o)\n",
        "\n"
      ],
      "metadata": {
        "colab": {
          "base_uri": "https://localhost:8080/"
        },
        "id": "YbY28Z985hBt",
        "outputId": "a7f2c020-fe97-402d-b210-2a7f32248aac"
      },
      "execution_count": null,
      "outputs": [
        {
          "output_type": "stream",
          "name": "stdout",
          "text": [
            "Hamming Loss without 'O': 0.1694380733944954\n",
            "Jaccard Score without 'O': 0.060830126770520535\n",
            "F1 Score without 'O': 0.11387282221903476\n"
          ]
        }
      ]
    },
    {
      "cell_type": "code",
      "execution_count": null,
      "metadata": {
        "id": "wT7iWqbg9Vat"
      },
      "outputs": [],
      "source": [
        "def predict_tags(model, sentence, tokenizer, maxlen, unique_tags, id2tags):\n",
        "    # Tokenize the input sentence\n",
        "    sequence = tokenizer.texts_to_sequences([sentence])\n",
        "\n",
        "    # Pad the sequence\n",
        "    padded_sequence = pad_sequences(sequence, maxlen=maxlen, padding='post')\n",
        "\n",
        "    # Predict tags for the given sentence\n",
        "    predictions = model.predict(padded_sequence)\n",
        "\n",
        "    # Get the predicted tag indices\n",
        "    predicted_indices = np.argmax(predictions, axis=-1)\n",
        "\n",
        "    # Convert the numpy array to a list of integers\n",
        "    predicted_indices_list = [int(index) for index in predictions[0]]\n",
        "\n",
        "    # Convert the predicted tag indices to tag names\n",
        "    predicted_tags = [id2tags[index] for index in predicted_indices_list]\n",
        "\n",
        "    # Truncate the predicted tags at the end of the input sentence\n",
        "    truncated_tags = predicted_tags[:len(sentence.split())]\n",
        "\n",
        "    return truncated_tags\n",
        "\n",
        "\n",
        "# Example usage\n",
        "\n",
        "\n"
      ]
    },
    {
      "cell_type": "code",
      "source": [
        "predicted_tags = predict_tags(model, X[0], tokenizer, maxlen, unique_tags, id2tags)\n",
        "\n",
        "print(\"This is input senctence :\\n\",X[0])\n",
        "print(\"\\n\")\n",
        "print(\"This is the Actual Tags :\\n\",Y[0])\n",
        "print(\"\\n\")\n",
        "print(\"This is the Predicted Tags :\\n\",predicted_tags)\n"
      ],
      "metadata": {
        "colab": {
          "base_uri": "https://localhost:8080/"
        },
        "id": "_5KYwN1nLF5y",
        "outputId": "eaf65f09-23cc-4b77-c95a-f92313fd0fd0"
      },
      "execution_count": null,
      "outputs": [
        {
          "output_type": "stream",
          "name": "stdout",
          "text": [
            "1/1 [==============================] - 0s 167ms/step\n",
            "This is input senctence :\n",
            " Thousands of demonstrators have marched through London to protest the war in Iraq and demand the withdrawal of British troops from that country .\n",
            "\n",
            "\n",
            "This is the Actual Tags :\n",
            " ['O', 'O', 'O', 'O', 'O', 'O', 'B-geo', 'O', 'O', 'O', 'O', 'O', 'B-geo', 'O', 'O', 'O', 'O', 'O', 'B-gpe', 'O', 'O', 'O', 'O', 'O']\n",
            "\n",
            "\n",
            "This is the Predicted Tags :\n",
            " ['O', 'O', 'O', 'O', 'O', 'O', 'B-geo', 'O', 'O', 'O', 'O', 'O', 'B-geo', 'O', 'O', 'O', 'O', 'O', 'B-gpe', 'O', 'O', 'O', 'O', 'O']\n"
          ]
        }
      ]
    },
    {
      "cell_type": "code",
      "source": [
        "input_sentence = \"Apple is looking to buy a London based startup for $1 Billion\"\n",
        "predicted_tags = predict_tags(model, input_sentence, tokenizer, maxlen, unique_tags, id2tags)\n",
        "\n",
        "print(\"\\nThis is input senctence :\\n\",input_sentence)\n",
        "print(\"\\n\")\n",
        "\n",
        "print(\"This is the Predicted Tags :\\n\",predicted_tags)"
      ],
      "metadata": {
        "colab": {
          "base_uri": "https://localhost:8080/"
        },
        "id": "17NlEPD2OFlG",
        "outputId": "5eccd7be-8fe6-4e1f-b343-d65787fb5fce"
      },
      "execution_count": null,
      "outputs": [
        {
          "output_type": "stream",
          "name": "stdout",
          "text": [
            "1/1 [==============================] - 0s 68ms/step\n",
            "\n",
            "This is input senctence :\n",
            " Apple is looking to buy a London based startup for $1 Billion\n",
            "\n",
            "\n",
            "This is the Predicted Tags :\n",
            " ['B-org', 'O', 'O', 'O', 'O', 'O', 'O', 'O', 'O', 'O', 'O', 'O']\n"
          ]
        }
      ]
    },
    {
      "cell_type": "code",
      "source": [
        "input_sentence = \"apple London city\"\n",
        "predicted_tags = predict_tags(model, input_sentence, tokenizer, maxlen, unique_tags, id2tags)\n",
        "\n",
        "print(\"\\nThis is input senctence :\\n\",input_sentence)\n",
        "print(\"\\n\")\n",
        "\n",
        "print(\"This is the Predicted Tags :\\n\",predicted_tags)"
      ],
      "metadata": {
        "colab": {
          "base_uri": "https://localhost:8080/"
        },
        "id": "EJp_00xAQZOs",
        "outputId": "c61515f9-be8f-4136-9a0f-eb6cfeb7e1f6"
      },
      "execution_count": null,
      "outputs": [
        {
          "output_type": "stream",
          "name": "stdout",
          "text": [
            "1/1 [==============================] - 0s 59ms/step\n",
            "\n",
            "This is input senctence :\n",
            " apple London city\n",
            "\n",
            "\n",
            "This is the Predicted Tags :\n",
            " ['B-geo', 'O', 'B-geo']\n"
          ]
        }
      ]
    },
    {
      "cell_type": "markdown",
      "source": [
        "#Bi Directional LSTM"
      ],
      "metadata": {
        "id": "8VK8CgDzhTBk"
      }
    },
    {
      "cell_type": "code",
      "source": [
        "X_preprocessed.shape"
      ],
      "metadata": {
        "colab": {
          "base_uri": "https://localhost:8080/"
        },
        "id": "JanDyd29d8Sn",
        "outputId": "af296815-7d52-4789-8f73-3866aef499d1"
      },
      "execution_count": null,
      "outputs": [
        {
          "output_type": "execute_result",
          "data": {
            "text/plain": [
              "(47959, 110)"
            ]
          },
          "metadata": {},
          "execution_count": 38
        }
      ]
    },
    {
      "cell_type": "code",
      "source": [
        "X_2 = X_preprocessed[0: int(X_preprocessed.shape[0]*0.8) ]\n",
        "Y_2 = Y_preprocessed[0: int(Y_preprocessed.shape[0]*0.8) ]\n",
        "\n",
        "X_test = X_preprocessed[int(X_preprocessed.shape[0]*0.8): ]\n",
        "Y_test = Y_preprocessed[int(Y_preprocessed.shape[0]*0.8):  ] "
      ],
      "metadata": {
        "id": "wcN8RQQshXbZ"
      },
      "execution_count": null,
      "outputs": []
    },
    {
      "cell_type": "code",
      "source": [
        "import tensorflow as tf\n",
        "from keras.models import Model\n",
        "from keras.layers import Input, Embedding, Bidirectional, LSTM, TimeDistributed, Dense\n",
        "\n",
        "\n",
        "embedding_dim = 128\n",
        "lstm_units = 64\n",
        "\n",
        "# Model architecture\n",
        "input_layer = Input(shape=(maxlen,))\n",
        "embedding_layer = Embedding(max_words, embedding_dim, input_length=maxlen)(input_layer)\n",
        "bi_lstm_layer = Bidirectional(LSTM(lstm_units, return_sequences=True))(embedding_layer)\n",
        "output_layer = TimeDistributed(Dense(len(unique_tags), activation=\"softmax\"))(bi_lstm_layer)\n",
        "\n",
        "# Compile the model\n",
        "model_lstm = Model(inputs=input_layer, outputs=output_layer)\n",
        "model_lstm.compile(optimizer=\"adam\", loss=\"sparse_categorical_crossentropy\", metrics=[\"accuracy\"])\n",
        "\n",
        "model_lstm.summary()\n",
        "\n"
      ],
      "metadata": {
        "colab": {
          "base_uri": "https://localhost:8080/"
        },
        "id": "NYjH1E0uh1OO",
        "outputId": "9d89cc35-bbd2-420f-8b45-70ed9858ee6e"
      },
      "execution_count": null,
      "outputs": [
        {
          "output_type": "stream",
          "name": "stdout",
          "text": [
            "Model: \"model_5\"\n",
            "_________________________________________________________________\n",
            " Layer (type)                Output Shape              Param #   \n",
            "=================================================================\n",
            " input_6 (InputLayer)        [(None, 110)]             0         \n",
            "                                                                 \n",
            " embedding_5 (Embedding)     (None, 110, 128)          4608000   \n",
            "                                                                 \n",
            " bidirectional_10 (Bidirecti  (None, 110, 128)         98816     \n",
            " onal)                                                           \n",
            "                                                                 \n",
            " time_distributed (TimeDistr  (None, 110, 17)          2193      \n",
            " ibuted)                                                         \n",
            "                                                                 \n",
            "=================================================================\n",
            "Total params: 4,709,009\n",
            "Trainable params: 4,709,009\n",
            "Non-trainable params: 0\n",
            "_________________________________________________________________\n"
          ]
        }
      ]
    },
    {
      "cell_type": "code",
      "source": [
        "# Split the data into training and validation sets\n",
        "from sklearn.model_selection import train_test_split\n",
        "\n",
        "X_train, X_val, Y_train, Y_val = train_test_split(X_2, Y_2, test_size=0.2, random_state=42)\n",
        "\n",
        "# Prepare the data for the model\n",
        "Y_train = np.expand_dims(Y_train, -1)\n",
        "Y_val = np.expand_dims(Y_val, -1)\n",
        "\n",
        "# Train the model\n",
        "epochs = 5\n",
        "batch_size = 64\n",
        "\n",
        "\n",
        "history = model_lstm.fit(\n",
        "    X_train, Y_train,\n",
        "    epochs=epochs,\n",
        "    batch_size=batch_size,\n",
        "    validation_data=(X_val, Y_val),\n",
        "    verbose=1\n",
        ")\n"
      ],
      "metadata": {
        "colab": {
          "base_uri": "https://localhost:8080/"
        },
        "id": "MZiVRuu0kY22",
        "outputId": "31326981-8758-460e-d67b-e27822021341"
      },
      "execution_count": null,
      "outputs": [
        {
          "output_type": "stream",
          "name": "stdout",
          "text": [
            "Epoch 1/5\n",
            "480/480 [==============================] - 40s 77ms/step - loss: 0.1817 - accuracy: 0.9679 - val_loss: 0.1026 - val_accuracy: 0.9721\n",
            "Epoch 2/5\n",
            "480/480 [==============================] - 10s 22ms/step - loss: 0.0847 - accuracy: 0.9752 - val_loss: 0.0770 - val_accuracy: 0.9767\n",
            "Epoch 3/5\n",
            "480/480 [==============================] - 8s 16ms/step - loss: 0.0673 - accuracy: 0.9786 - val_loss: 0.0701 - val_accuracy: 0.9787\n",
            "Epoch 4/5\n",
            "480/480 [==============================] - 7s 15ms/step - loss: 0.0579 - accuracy: 0.9811 - val_loss: 0.0683 - val_accuracy: 0.9792\n",
            "Epoch 5/5\n",
            "480/480 [==============================] - 6s 13ms/step - loss: 0.0508 - accuracy: 0.9830 - val_loss: 0.0682 - val_accuracy: 0.9793\n"
          ]
        }
      ]
    },
    {
      "cell_type": "code",
      "source": [
        "# Prepare the test data for the model\n",
        "X_test = np.array(X_test)\n",
        "Y_test = np.expand_dims(Y_test, -1)"
      ],
      "metadata": {
        "id": "070Ksl2XxMAi"
      },
      "execution_count": null,
      "outputs": []
    },
    {
      "cell_type": "code",
      "source": [
        "# Prepare the test data for the model\n",
        "X_test = np.array(X_test)\n",
        "Y_test = np.expand_dims(Y_test, -1)\n",
        "\n",
        "# Evaluate the model\n",
        "score, accuracy = model_lstm.evaluate(X_val, Y_val, batch_size=batch_size)\n",
        "print(\"Test score:\", score)\n",
        "print(\"Test accuracy:\", accuracy)\n",
        "\n",
        "predictions = model_lstm.predict(X_test)"
      ],
      "metadata": {
        "colab": {
          "base_uri": "https://localhost:8080/"
        },
        "id": "PnV2_wL3xU2l",
        "outputId": "8c23f231-20cb-43d8-f1f7-7de7a86546fc"
      },
      "execution_count": null,
      "outputs": [
        {
          "output_type": "stream",
          "name": "stdout",
          "text": [
            "120/120 [==============================] - 1s 6ms/step - loss: 0.0682 - accuracy: 0.9793\n",
            "Test score: 0.06817901134490967\n",
            "Test accuracy: 0.9793269038200378\n",
            "300/300 [==============================] - 1s 4ms/step\n"
          ]
        }
      ]
    },
    {
      "cell_type": "code",
      "source": [
        "predictions.shape"
      ],
      "metadata": {
        "colab": {
          "base_uri": "https://localhost:8080/"
        },
        "id": "jgO1IYtbxXHR",
        "outputId": "ac2e7b08-0d21-4f30-a801-d0e910e87307"
      },
      "execution_count": null,
      "outputs": [
        {
          "output_type": "execute_result",
          "data": {
            "text/plain": [
              "(9592, 110, 17)"
            ]
          },
          "metadata": {},
          "execution_count": 57
        }
      ]
    },
    {
      "cell_type": "code",
      "source": [
        "plt.plot(range(1, epochs + 1), history.history['loss'], label='Training Loss')\n",
        "plt.xlabel('Epochs')\n",
        "plt.ylabel('Loss')\n",
        "plt.title('Training  Loss over Epochs')\n",
        "plt.legend()\n",
        "plt.show()\n"
      ],
      "metadata": {
        "colab": {
          "base_uri": "https://localhost:8080/",
          "height": 472
        },
        "id": "qnvabUzpxY1y",
        "outputId": "dbf2da20-93bd-4fbf-d710-8518a8154272"
      },
      "execution_count": null,
      "outputs": [
        {
          "output_type": "display_data",
          "data": {
            "text/plain": [
              "<Figure size 640x480 with 1 Axes>"
            ],
            "image/png": "[encoded data removed]"
          },
          "metadata": {}
        }
      ]
    },
    {
      "cell_type": "code",
      "source": [
        "from sklearn.metrics import precision_recall_fscore_support\n",
        "\n",
        "# Predict tags for the test set\n",
        "Y_pred_classes = np.argmax(predictions, axis=-1)\n",
        "\n",
        "# Flatten the true and predicted tags\n",
        "Y_test_flat = Y_test.flatten()\n",
        "Y_pred_flat = Y_pred_classes.flatten()\n",
        "\n",
        "# Compute precision, recall, F1 score, and support\n",
        "precision, recall, f1_score, _ = precision_recall_fscore_support(Y_test_flat, Y_pred_flat, average='weighted', zero_division=0)\n",
        "\n",
        "print(f\"Precision: {precision:.2f}\")\n",
        "print(f\"Recall: {recall:.2f}\")\n",
        "print(f\"F1 score: {f1_score:.2f}\")\n"
      ],
      "metadata": {
        "colab": {
          "base_uri": "https://localhost:8080/"
        },
        "id": "Jot2M7gMxcBM",
        "outputId": "a314460c-2c5d-4a7e-e538-0c347d9892ae"
      },
      "execution_count": null,
      "outputs": [
        {
          "output_type": "stream",
          "name": "stdout",
          "text": [
            "Precision: 0.98\n",
            "Recall: 0.98\n",
            "F1 score: 0.98\n"
          ]
        }
      ]
    },
    {
      "cell_type": "code",
      "source": [
        "from sklearn.metrics import hamming_loss, jaccard_score\n",
        "from sklearn.preprocessing import MultiLabelBinarizer\n",
        "\n",
        "# Convert the true and predicted tags to one-hot encoding\n",
        "mlb = MultiLabelBinarizer()\n",
        "Y_test_one_hot = mlb.fit_transform(Y_test_flat.reshape(-1, 1))\n",
        "Y_pred_one_hot = mlb.transform(Y_pred_flat.reshape(-1, 1))\n",
        "\n",
        "# Calculate Hamming loss\n",
        "hamming_loss_value = hamming_loss(Y_test_one_hot, Y_pred_one_hot)\n",
        "print(f\"Hamming loss: {hamming_loss_value:.2f}\")\n",
        "\n",
        "# Calculate Jaccard score (also known as the Jaccard similarity coefficient)\n",
        "jaccard_score_value = jaccard_score(Y_test_one_hot, Y_pred_one_hot, average='weighted')\n",
        "print(f\"Jaccard score: {jaccard_score_value:.2f}\")\n"
      ],
      "metadata": {
        "colab": {
          "base_uri": "https://localhost:8080/"
        },
        "id": "Zi65KMhVxema",
        "outputId": "22254908-a64b-40cf-825a-ee75d6ae535f"
      },
      "execution_count": null,
      "outputs": [
        {
          "output_type": "stream",
          "name": "stdout",
          "text": [
            "Hamming loss: 0.00\n",
            "Jaccard score: 0.96\n"
          ]
        }
      ]
    },
    {
      "cell_type": "code",
      "source": [
        "# Define a function for preprocessing a single input sentence\n",
        "def preprocess_sentence(sentence, tokenizer, maxlen):\n",
        "    sequence = tokenizer.texts_to_sequences([sentence])\n",
        "    padded_sequence = pad_sequences(sequence, maxlen=maxlen, padding=\"post\", truncating=\"post\")\n",
        "    return padded_sequence\n",
        "\n",
        "# Define a function to convert the predicted tags back to their original string representation\n",
        "def tags_from_pred(Y_pred_classes, unique_tags):\n",
        "    return [unique_tags[tag_index] for tag_index in Y_pred_classes]\n",
        "\n",
        "# Input sentence\n",
        "input_sentence = \"Apple is looking to buy a Alex based startup for London\"\n",
        "\n",
        "# Preprocess the input sentence\n",
        "input_preprocessed = preprocess_sentence(input_sentence, tokenizer, maxlen)\n",
        "\n",
        "# Make predictions\n",
        "Y_pred = model_lstm.predict(input_preprocessed)\n",
        "Y_pred_classes = np.argmax(Y_pred, axis=-1)\n",
        "\n",
        "# Get the predicted tags\n",
        "predicted_tags = tags_from_pred(Y_pred_classes[0], unique_tags)\n",
        "\n",
        "# Combine the input words with their predicted tags\n",
        "input_words = input_sentence.split()\n",
        "result = list(zip(input_words, predicted_tags))\n",
        "\n",
        "print(result)\n"
      ],
      "metadata": {
        "colab": {
          "base_uri": "https://localhost:8080/"
        },
        "id": "8C8jBNrLxipB",
        "outputId": "0d194b2f-5474-49a7-91c5-e6b242694f7a"
      },
      "execution_count": null,
      "outputs": [
        {
          "output_type": "stream",
          "name": "stdout",
          "text": [
            "1/1 [==============================] - 0s 26ms/step\n",
            "[('Apple', 'B-org'), ('is', 'O'), ('looking', 'O'), ('to', 'O'), ('buy', 'O'), ('a', 'O'), ('Alex', 'O'), ('based', 'O'), ('startup', 'O'), ('for', 'O'), ('London', 'O')]\n"
          ]
        }
      ]
    },
    {
      "cell_type": "code",
      "source": [
        "# Define a function for preprocessing a single input sentence\n",
        "def preprocess_sentence(sentence, tokenizer, maxlen):\n",
        "    sequence = tokenizer.texts_to_sequences([sentence])\n",
        "    padded_sequence = pad_sequences(sequence, maxlen=maxlen, padding=\"post\", truncating=\"post\")\n",
        "    return padded_sequence\n",
        "\n",
        "# Define a function to convert the predicted tags back to their original string representation\n",
        "def tags_from_pred(Y_pred_classes, unique_tags):\n",
        "    return [unique_tags[tag_index] for tag_index in Y_pred_classes]\n",
        "\n",
        "# Input sentence\n",
        "input_sentence = X[0]\n",
        "\n",
        "# Preprocess the input sentence\n",
        "input_preprocessed = preprocess_sentence(input_sentence, tokenizer, maxlen)\n",
        "\n",
        "# Make predictions\n",
        "Y_pred = model_lstm.predict(input_preprocessed)\n",
        "Y_pred_classes = np.argmax(Y_pred, axis=-1)\n",
        "\n",
        "# Get the predicted tags\n",
        "predicted_tags_lstm = tags_from_pred(Y_pred_classes[0], unique_tags)\n",
        "truncated_tags_lstm = predicted_tags_lstm[:len(input_sentence.split())]\n",
        "\n",
        "\n",
        "# Combine the input words with their predicted tags\n",
        "#input_words = input_sentence.split()\n",
        "#result = list(zip(input_words, predicted_tags))\n",
        "\n",
        "\n",
        "print(\"This is input senctence :\\n\",X[0])\n",
        "print(\"\\n\")\n",
        "print(\"This is the Actual Tags :\\n\",Y[0])\n",
        "print(\"\\n\")\n",
        "print(\"This is the Predicted Tags :\\n\",truncated_tags_lstm)"
      ],
      "metadata": {
        "colab": {
          "base_uri": "https://localhost:8080/"
        },
        "id": "L2Tr9C7wxlGi",
        "outputId": "8aeb9472-87c1-4133-c3e4-a88c86c263b4"
      },
      "execution_count": null,
      "outputs": [
        {
          "output_type": "stream",
          "name": "stdout",
          "text": [
            "1/1 [==============================] - 0s 27ms/step\n",
            "This is input senctence :\n",
            " Thousands of demonstrators have marched through London to protest the war in Iraq and demand the withdrawal of British troops from that country .\n",
            "\n",
            "\n",
            "This is the Actual Tags :\n",
            " ['O', 'O', 'O', 'O', 'O', 'O', 'B-geo', 'O', 'O', 'O', 'O', 'O', 'B-geo', 'O', 'O', 'O', 'O', 'O', 'B-gpe', 'O', 'O', 'O', 'O', 'O']\n",
            "\n",
            "\n",
            "This is the Predicted Tags :\n",
            " ['O', 'O', 'O', 'O', 'O', 'O', 'B-geo', 'O', 'O', 'O', 'O', 'O', 'B-geo', 'O', 'O', 'O', 'O', 'O', 'B-gpe', 'O', 'O', 'O', 'O', 'O']\n"
          ]
        }
      ]
    },
    {
      "cell_type": "code",
      "source": [
        "input_sentence = \"Apple is looking to buy a London based startup for $1 Billion\"\n",
        "\n",
        "# Preprocess the input sentence\n",
        "input_preprocessed = preprocess_sentence(input_sentence, tokenizer, maxlen)\n",
        "\n",
        "# Make predictions\n",
        "Y_pred = model_lstm.predict(input_preprocessed)\n",
        "Y_pred_classes = np.argmax(Y_pred, axis=-1)\n",
        "\n",
        "# Get the predicted tags\n",
        "predicted_tags_lstm = tags_from_pred(Y_pred_classes[0], unique_tags)\n",
        "truncated_tags_lstm = predicted_tags_lstm[:len(input_sentence.split())]\n",
        "\n",
        "print(\"\\nThis is input senctence :\\n\",input_sentence)\n",
        "print(\"\\n\")\n",
        "\n",
        "print(\"This is the Predicted Tags :\\n\",truncated_tags_lstm)"
      ],
      "metadata": {
        "colab": {
          "base_uri": "https://localhost:8080/"
        },
        "id": "TAB98cm6xndV",
        "outputId": "b588eeab-eff3-4f76-dd43-5c6cf2727777"
      },
      "execution_count": null,
      "outputs": [
        {
          "output_type": "stream",
          "name": "stdout",
          "text": [
            "1/1 [==============================] - 0s 24ms/step\n",
            "\n",
            "This is input senctence :\n",
            " Apple is looking to buy a London based startup for $1 Billion\n",
            "\n",
            "\n",
            "This is the Predicted Tags :\n",
            " ['B-org', 'O', 'O', 'O', 'O', 'O', 'B-geo', 'O', 'O', 'O', 'O', 'O']\n"
          ]
        }
      ]
    },
    {
      "cell_type": "code",
      "source": [
        "input_sentence = \"Apple London city\"\n",
        "\n",
        "# Preprocess the input sentence\n",
        "input_preprocessed = preprocess_sentence(input_sentence, tokenizer, maxlen)\n",
        "\n",
        "# Make predictions\n",
        "Y_pred = model_lstm.predict(input_preprocessed)\n",
        "Y_pred_classes = np.argmax(Y_pred, axis=-1)\n",
        "\n",
        "# Get the predicted tags\n",
        "predicted_tags_lstm = tags_from_pred(Y_pred_classes[0], unique_tags)\n",
        "truncated_tags_lstm = predicted_tags_lstm[:len(input_sentence.split())]\n",
        "\n",
        "print(\"\\nThis is input senctence :\\n\",input_sentence)\n",
        "print(\"\\n\")\n",
        "\n",
        "print(\"This is the Predicted Tags :\\n\",truncated_tags_lstm)"
      ],
      "metadata": {
        "colab": {
          "base_uri": "https://localhost:8080/"
        },
        "id": "56CdpjZjxq53",
        "outputId": "96734973-3b9c-436d-b2c2-a71a40b5a02f"
      },
      "execution_count": null,
      "outputs": [
        {
          "output_type": "stream",
          "name": "stdout",
          "text": [
            "1/1 [==============================] - 0s 25ms/step\n",
            "\n",
            "This is input senctence :\n",
            " Apple London city\n",
            "\n",
            "\n",
            "This is the Predicted Tags :\n",
            " ['B-org', 'B-geo', 'O']\n"
          ]
        }
      ]
    }
  ],
  "metadata": {
    "accelerator": "GPU",
    "colab": {
      "machine_shape": "hm",
      "provenance": []
    },
    "gpuClass": "premium",
    "kernelspec": {
      "display_name": "Python 3",
      "name": "python3"
    },
    "language_info": {
      "name": "python"
    }
  },
  "nbformat": 4,
  "nbformat_minor": 0
}